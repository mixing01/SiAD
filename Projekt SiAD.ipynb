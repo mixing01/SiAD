{
 "cells": [
  {
   "cell_type": "markdown",
   "id": "4fb871a4",
   "metadata": {},
   "source": [
    "# Zadanie domowe SiAD\n",
    "#### Jakub Wiśniowski, nr albumu: 151831, grupa lab. 3"
   ]
  },
  {
   "cell_type": "markdown",
   "id": "b0aceded",
   "metadata": {},
   "source": [
    "### Wstęp\n",
    "W poniższej pracy skupiam się na statystycznej analizie czasu snu ludzi oraz na różnicach w czasie i jakości snu ludzi z różnych grup. Analizowane będą różne czynniki, które potencjalnie mogą wprowadzić różnice w wyżej wymienionych parametrach snu. W poniższym zbiorze zostały umieszczone następujące informacje o badanej osobie:\n",
    "\n",
    "1. Płeć\n",
    "2. Wiek\n",
    "3. Zawód\n",
    "\n",
    "W przypadku snu uzyskano dwa parametry:\n",
    "\n",
    "4. Długość (podana w godzinach na dobę)\n",
    "5. Jakość snu oceniana przez badanego (podana w skali od 1 do 10\n",
    "\n",
    "Ponadto dodane zostały inne parametry dotyczące stanu fizycznego danej osoby:\n",
    "\n",
    "6. Poziom aktywności fizycznej (podany w minutach na dzień)\n",
    "7. poziom stresu (w skali od 1 do 10)\n",
    "8. Kategoria BMI (niedowaga, norma, nadwaga oraz otyłość)\n",
    "9. Ciśnienie krwi (skurczowe/rozkurczowe podane w milimetrach słupka rtęci)\n",
    "10. Tętno (uderzenia na minutę)\n",
    "11. Liczba dziennych kroków\n",
    "12. Ewentualne zaburzenia snu (brak, bezsenność lub bezdech senny)\n",
    "\n",
    "Dane zostały zebrane jako wynik obserwacji przez użytkownika Laksika Tharmalingam na platformie kaggle.com. Zbiór danych dostępny jest pod adresem: https://www.kaggle.com/datasets/uom190346a/sleep-health-and-lifestyle-dataset\n",
    "\n",
    "### UWAGA\n",
    "#### W katalogu z zadaniem powinien znajdować się plik .csv, z którego będą odczytywane dane"
   ]
  },
  {
   "cell_type": "markdown",
   "id": "d287a545",
   "metadata": {},
   "source": [
    "# 1. Wczytanie danych\n",
    "Zmienna all_df przechowuje data frame odczytany z pliku sleep.csv"
   ]
  },
  {
   "cell_type": "code",
   "execution_count": 130,
   "id": "65a9e2c7",
   "metadata": {},
   "outputs": [
    {
     "data": {
      "text/html": [
       "<table>\n",
       "<thead><tr><th scope=col>Person.ID</th><th scope=col>Gender</th><th scope=col>Age</th><th scope=col>Occupation</th><th scope=col>Sleep.Duration</th><th scope=col>Quality.of.Sleep</th><th scope=col>Physical.Activity.Level</th><th scope=col>Stress.Level</th><th scope=col>BMI.Category</th><th scope=col>Blood.Pressure</th><th scope=col>Heart.Rate</th><th scope=col>Daily.Steps</th><th scope=col>Sleep.Disorder</th></tr></thead>\n",
       "<tbody>\n",
       "\t<tr><td> 1                  </td><td>Male                </td><td>27                  </td><td>Software Engineer   </td><td>6.1                 </td><td>6                   </td><td>42                  </td><td>6                   </td><td>Overweight          </td><td>126/83              </td><td>77                  </td><td> 4200               </td><td>None                </td></tr>\n",
       "\t<tr><td> 2                  </td><td>Male                </td><td>28                  </td><td>Doctor              </td><td>6.2                 </td><td>6                   </td><td>60                  </td><td>8                   </td><td>Normal              </td><td>125/80              </td><td>75                  </td><td>10000               </td><td>None                </td></tr>\n",
       "\t<tr><td> 3                  </td><td>Male                </td><td>28                  </td><td>Doctor              </td><td>6.2                 </td><td>6                   </td><td>60                  </td><td>8                   </td><td>Normal              </td><td>125/80              </td><td>75                  </td><td>10000               </td><td>None                </td></tr>\n",
       "\t<tr><td> 4                  </td><td>Male                </td><td>28                  </td><td>Sales Representative</td><td>5.9                 </td><td>4                   </td><td>30                  </td><td>8                   </td><td>Obese               </td><td>140/90              </td><td>85                  </td><td> 3000               </td><td>Sleep Apnea         </td></tr>\n",
       "\t<tr><td> 5                  </td><td>Male                </td><td>28                  </td><td>Sales Representative</td><td>5.9                 </td><td>4                   </td><td>30                  </td><td>8                   </td><td>Obese               </td><td>140/90              </td><td>85                  </td><td> 3000               </td><td>Sleep Apnea         </td></tr>\n",
       "\t<tr><td> 6                  </td><td>Male                </td><td>28                  </td><td>Software Engineer   </td><td>5.9                 </td><td>4                   </td><td>30                  </td><td>8                   </td><td>Obese               </td><td>140/90              </td><td>85                  </td><td> 3000               </td><td>Insomnia            </td></tr>\n",
       "\t<tr><td> 7                  </td><td>Male                </td><td>29                  </td><td>Teacher             </td><td>6.3                 </td><td>6                   </td><td>40                  </td><td>7                   </td><td>Obese               </td><td>140/90              </td><td>82                  </td><td> 3500               </td><td>Insomnia            </td></tr>\n",
       "\t<tr><td> 8                  </td><td>Male                </td><td>29                  </td><td>Doctor              </td><td>7.8                 </td><td>7                   </td><td>75                  </td><td>6                   </td><td>Normal              </td><td>120/80              </td><td>70                  </td><td> 8000               </td><td>None                </td></tr>\n",
       "\t<tr><td> 9                  </td><td>Male                </td><td>29                  </td><td>Doctor              </td><td>7.8                 </td><td>7                   </td><td>75                  </td><td>6                   </td><td>Normal              </td><td>120/80              </td><td>70                  </td><td> 8000               </td><td>None                </td></tr>\n",
       "\t<tr><td>10                  </td><td>Male                </td><td>29                  </td><td>Doctor              </td><td>7.8                 </td><td>7                   </td><td>75                  </td><td>6                   </td><td>Normal              </td><td>120/80              </td><td>70                  </td><td> 8000               </td><td>None                </td></tr>\n",
       "\t<tr><td>11                  </td><td>Male                </td><td>29                  </td><td>Doctor              </td><td>6.1                 </td><td>6                   </td><td>30                  </td><td>8                   </td><td>Normal              </td><td>120/80              </td><td>70                  </td><td> 8000               </td><td>None                </td></tr>\n",
       "\t<tr><td>12                  </td><td>Male                </td><td>29                  </td><td>Doctor              </td><td>7.8                 </td><td>7                   </td><td>75                  </td><td>6                   </td><td>Normal              </td><td>120/80              </td><td>70                  </td><td> 8000               </td><td>None                </td></tr>\n",
       "\t<tr><td>13                  </td><td>Male                </td><td>29                  </td><td>Doctor              </td><td>6.1                 </td><td>6                   </td><td>30                  </td><td>8                   </td><td>Normal              </td><td>120/80              </td><td>70                  </td><td> 8000               </td><td>None                </td></tr>\n",
       "\t<tr><td>14                  </td><td>Male                </td><td>29                  </td><td>Doctor              </td><td>6.0                 </td><td>6                   </td><td>30                  </td><td>8                   </td><td>Normal              </td><td>120/80              </td><td>70                  </td><td> 8000               </td><td>None                </td></tr>\n",
       "\t<tr><td>15                  </td><td>Male                </td><td>29                  </td><td>Doctor              </td><td>6.0                 </td><td>6                   </td><td>30                  </td><td>8                   </td><td>Normal              </td><td>120/80              </td><td>70                  </td><td> 8000               </td><td>None                </td></tr>\n",
       "\t<tr><td>16                  </td><td>Male                </td><td>29                  </td><td>Doctor              </td><td>6.0                 </td><td>6                   </td><td>30                  </td><td>8                   </td><td>Normal              </td><td>120/80              </td><td>70                  </td><td> 8000               </td><td>None                </td></tr>\n",
       "\t<tr><td>17                  </td><td>Female              </td><td>29                  </td><td>Nurse               </td><td>6.5                 </td><td>5                   </td><td>40                  </td><td>7                   </td><td>Normal Weight       </td><td>132/87              </td><td>80                  </td><td> 4000               </td><td>Sleep Apnea         </td></tr>\n",
       "\t<tr><td>18                  </td><td>Male                </td><td>29                  </td><td>Doctor              </td><td>6.0                 </td><td>6                   </td><td>30                  </td><td>8                   </td><td>Normal              </td><td>120/80              </td><td>70                  </td><td> 8000               </td><td>Sleep Apnea         </td></tr>\n",
       "\t<tr><td>19                  </td><td>Female              </td><td>29                  </td><td>Nurse               </td><td>6.5                 </td><td>5                   </td><td>40                  </td><td>7                   </td><td>Normal Weight       </td><td>132/87              </td><td>80                  </td><td> 4000               </td><td>Insomnia            </td></tr>\n",
       "\t<tr><td>20                  </td><td>Male                </td><td>30                  </td><td>Doctor              </td><td>7.6                 </td><td>7                   </td><td>75                  </td><td>6                   </td><td>Normal              </td><td>120/80              </td><td>70                  </td><td> 8000               </td><td>None                </td></tr>\n",
       "\t<tr><td>21                  </td><td>Male                </td><td>30                  </td><td>Doctor              </td><td>7.7                 </td><td>7                   </td><td>75                  </td><td>6                   </td><td>Normal              </td><td>120/80              </td><td>70                  </td><td> 8000               </td><td>None                </td></tr>\n",
       "\t<tr><td>22                  </td><td>Male                </td><td>30                  </td><td>Doctor              </td><td>7.7                 </td><td>7                   </td><td>75                  </td><td>6                   </td><td>Normal              </td><td>120/80              </td><td>70                  </td><td> 8000               </td><td>None                </td></tr>\n",
       "\t<tr><td>23                  </td><td>Male                </td><td>30                  </td><td>Doctor              </td><td>7.7                 </td><td>7                   </td><td>75                  </td><td>6                   </td><td>Normal              </td><td>120/80              </td><td>70                  </td><td> 8000               </td><td>None                </td></tr>\n",
       "\t<tr><td>24                  </td><td>Male                </td><td>30                  </td><td>Doctor              </td><td>7.7                 </td><td>7                   </td><td>75                  </td><td>6                   </td><td>Normal              </td><td>120/80              </td><td>70                  </td><td> 8000               </td><td>None                </td></tr>\n",
       "\t<tr><td>25                  </td><td>Male                </td><td>30                  </td><td>Doctor              </td><td>7.8                 </td><td>7                   </td><td>75                  </td><td>6                   </td><td>Normal              </td><td>120/80              </td><td>70                  </td><td> 8000               </td><td>None                </td></tr>\n",
       "\t<tr><td>26                  </td><td>Male                </td><td>30                  </td><td>Doctor              </td><td>7.9                 </td><td>7                   </td><td>75                  </td><td>6                   </td><td>Normal              </td><td>120/80              </td><td>70                  </td><td> 8000               </td><td>None                </td></tr>\n",
       "\t<tr><td>27                  </td><td>Male                </td><td>30                  </td><td>Doctor              </td><td>7.8                 </td><td>7                   </td><td>75                  </td><td>6                   </td><td>Normal              </td><td>120/80              </td><td>70                  </td><td> 8000               </td><td>None                </td></tr>\n",
       "\t<tr><td>28                  </td><td>Male                </td><td>30                  </td><td>Doctor              </td><td>7.9                 </td><td>7                   </td><td>75                  </td><td>6                   </td><td>Normal              </td><td>120/80              </td><td>70                  </td><td> 8000               </td><td>None                </td></tr>\n",
       "\t<tr><td>29                  </td><td>Male                </td><td>30                  </td><td>Doctor              </td><td>7.9                 </td><td>7                   </td><td>75                  </td><td>6                   </td><td>Normal              </td><td>120/80              </td><td>70                  </td><td> 8000               </td><td>None                </td></tr>\n",
       "\t<tr><td>30                  </td><td>Male                </td><td>30                  </td><td>Doctor              </td><td>7.9                 </td><td>7                   </td><td>75                  </td><td>6                   </td><td>Normal              </td><td>120/80              </td><td>70                  </td><td> 8000               </td><td>None                </td></tr>\n",
       "\t<tr><td>...</td><td>...</td><td>...</td><td>...</td><td>...</td><td>...</td><td>...</td><td>...</td><td>...</td><td>...</td><td>...</td><td>...</td><td>...</td></tr>\n",
       "\t<tr><td>345        </td><td>Female     </td><td>57         </td><td>Nurse      </td><td>8.2        </td><td>9          </td><td>75         </td><td>3          </td><td>Overweight </td><td>140/95     </td><td>68         </td><td>7000       </td><td>Sleep Apnea</td></tr>\n",
       "\t<tr><td>346        </td><td>Female     </td><td>57         </td><td>Nurse      </td><td>8.2        </td><td>9          </td><td>75         </td><td>3          </td><td>Overweight </td><td>140/95     </td><td>68         </td><td>7000       </td><td>Sleep Apnea</td></tr>\n",
       "\t<tr><td>347        </td><td>Female     </td><td>57         </td><td>Nurse      </td><td>8.2        </td><td>9          </td><td>75         </td><td>3          </td><td>Overweight </td><td>140/95     </td><td>68         </td><td>7000       </td><td>Sleep Apnea</td></tr>\n",
       "\t<tr><td>348        </td><td>Female     </td><td>57         </td><td>Nurse      </td><td>8.2        </td><td>9          </td><td>75         </td><td>3          </td><td>Overweight </td><td>140/95     </td><td>68         </td><td>7000       </td><td>Sleep Apnea</td></tr>\n",
       "\t<tr><td>349        </td><td>Female     </td><td>57         </td><td>Nurse      </td><td>8.2        </td><td>9          </td><td>75         </td><td>3          </td><td>Overweight </td><td>140/95     </td><td>68         </td><td>7000       </td><td>Sleep Apnea</td></tr>\n",
       "\t<tr><td>350        </td><td>Female     </td><td>57         </td><td>Nurse      </td><td>8.1        </td><td>9          </td><td>75         </td><td>3          </td><td>Overweight </td><td>140/95     </td><td>68         </td><td>7000       </td><td>Sleep Apnea</td></tr>\n",
       "\t<tr><td>351        </td><td>Female     </td><td>57         </td><td>Nurse      </td><td>8.1        </td><td>9          </td><td>75         </td><td>3          </td><td>Overweight </td><td>140/95     </td><td>68         </td><td>7000       </td><td>Sleep Apnea</td></tr>\n",
       "\t<tr><td>352        </td><td>Female     </td><td>57         </td><td>Nurse      </td><td>8.1        </td><td>9          </td><td>75         </td><td>3          </td><td>Overweight </td><td>140/95     </td><td>68         </td><td>7000       </td><td>Sleep Apnea</td></tr>\n",
       "\t<tr><td>353        </td><td>Female     </td><td>58         </td><td>Nurse      </td><td>8.0        </td><td>9          </td><td>75         </td><td>3          </td><td>Overweight </td><td>140/95     </td><td>68         </td><td>7000       </td><td>Sleep Apnea</td></tr>\n",
       "\t<tr><td>354        </td><td>Female     </td><td>58         </td><td>Nurse      </td><td>8.0        </td><td>9          </td><td>75         </td><td>3          </td><td>Overweight </td><td>140/95     </td><td>68         </td><td>7000       </td><td>Sleep Apnea</td></tr>\n",
       "\t<tr><td>355        </td><td>Female     </td><td>58         </td><td>Nurse      </td><td>8.0        </td><td>9          </td><td>75         </td><td>3          </td><td>Overweight </td><td>140/95     </td><td>68         </td><td>7000       </td><td>Sleep Apnea</td></tr>\n",
       "\t<tr><td>356        </td><td>Female     </td><td>58         </td><td>Nurse      </td><td>8.0        </td><td>9          </td><td>75         </td><td>3          </td><td>Overweight </td><td>140/95     </td><td>68         </td><td>7000       </td><td>Sleep Apnea</td></tr>\n",
       "\t<tr><td>357        </td><td>Female     </td><td>58         </td><td>Nurse      </td><td>8.0        </td><td>9          </td><td>75         </td><td>3          </td><td>Overweight </td><td>140/95     </td><td>68         </td><td>7000       </td><td>Sleep Apnea</td></tr>\n",
       "\t<tr><td>358        </td><td>Female     </td><td>58         </td><td>Nurse      </td><td>8.0        </td><td>9          </td><td>75         </td><td>3          </td><td>Overweight </td><td>140/95     </td><td>68         </td><td>7000       </td><td>Sleep Apnea</td></tr>\n",
       "\t<tr><td>359        </td><td>Female     </td><td>59         </td><td>Nurse      </td><td>8.0        </td><td>9          </td><td>75         </td><td>3          </td><td>Overweight </td><td>140/95     </td><td>68         </td><td>7000       </td><td>None       </td></tr>\n",
       "\t<tr><td>360        </td><td>Female     </td><td>59         </td><td>Nurse      </td><td>8.1        </td><td>9          </td><td>75         </td><td>3          </td><td>Overweight </td><td>140/95     </td><td>68         </td><td>7000       </td><td>None       </td></tr>\n",
       "\t<tr><td>361        </td><td>Female     </td><td>59         </td><td>Nurse      </td><td>8.2        </td><td>9          </td><td>75         </td><td>3          </td><td>Overweight </td><td>140/95     </td><td>68         </td><td>7000       </td><td>Sleep Apnea</td></tr>\n",
       "\t<tr><td>362        </td><td>Female     </td><td>59         </td><td>Nurse      </td><td>8.2        </td><td>9          </td><td>75         </td><td>3          </td><td>Overweight </td><td>140/95     </td><td>68         </td><td>7000       </td><td>Sleep Apnea</td></tr>\n",
       "\t<tr><td>363        </td><td>Female     </td><td>59         </td><td>Nurse      </td><td>8.2        </td><td>9          </td><td>75         </td><td>3          </td><td>Overweight </td><td>140/95     </td><td>68         </td><td>7000       </td><td>Sleep Apnea</td></tr>\n",
       "\t<tr><td>364        </td><td>Female     </td><td>59         </td><td>Nurse      </td><td>8.2        </td><td>9          </td><td>75         </td><td>3          </td><td>Overweight </td><td>140/95     </td><td>68         </td><td>7000       </td><td>Sleep Apnea</td></tr>\n",
       "\t<tr><td>365        </td><td>Female     </td><td>59         </td><td>Nurse      </td><td>8.0        </td><td>9          </td><td>75         </td><td>3          </td><td>Overweight </td><td>140/95     </td><td>68         </td><td>7000       </td><td>Sleep Apnea</td></tr>\n",
       "\t<tr><td>366        </td><td>Female     </td><td>59         </td><td>Nurse      </td><td>8.0        </td><td>9          </td><td>75         </td><td>3          </td><td>Overweight </td><td>140/95     </td><td>68         </td><td>7000       </td><td>Sleep Apnea</td></tr>\n",
       "\t<tr><td>367        </td><td>Female     </td><td>59         </td><td>Nurse      </td><td>8.1        </td><td>9          </td><td>75         </td><td>3          </td><td>Overweight </td><td>140/95     </td><td>68         </td><td>7000       </td><td>Sleep Apnea</td></tr>\n",
       "\t<tr><td>368        </td><td>Female     </td><td>59         </td><td>Nurse      </td><td>8.0        </td><td>9          </td><td>75         </td><td>3          </td><td>Overweight </td><td>140/95     </td><td>68         </td><td>7000       </td><td>Sleep Apnea</td></tr>\n",
       "\t<tr><td>369        </td><td>Female     </td><td>59         </td><td>Nurse      </td><td>8.1        </td><td>9          </td><td>75         </td><td>3          </td><td>Overweight </td><td>140/95     </td><td>68         </td><td>7000       </td><td>Sleep Apnea</td></tr>\n",
       "\t<tr><td>370        </td><td>Female     </td><td>59         </td><td>Nurse      </td><td>8.1        </td><td>9          </td><td>75         </td><td>3          </td><td>Overweight </td><td>140/95     </td><td>68         </td><td>7000       </td><td>Sleep Apnea</td></tr>\n",
       "\t<tr><td>371        </td><td>Female     </td><td>59         </td><td>Nurse      </td><td>8.0        </td><td>9          </td><td>75         </td><td>3          </td><td>Overweight </td><td>140/95     </td><td>68         </td><td>7000       </td><td>Sleep Apnea</td></tr>\n",
       "\t<tr><td>372        </td><td>Female     </td><td>59         </td><td>Nurse      </td><td>8.1        </td><td>9          </td><td>75         </td><td>3          </td><td>Overweight </td><td>140/95     </td><td>68         </td><td>7000       </td><td>Sleep Apnea</td></tr>\n",
       "\t<tr><td>373        </td><td>Female     </td><td>59         </td><td>Nurse      </td><td>8.1        </td><td>9          </td><td>75         </td><td>3          </td><td>Overweight </td><td>140/95     </td><td>68         </td><td>7000       </td><td>Sleep Apnea</td></tr>\n",
       "\t<tr><td>374        </td><td>Female     </td><td>59         </td><td>Nurse      </td><td>8.1        </td><td>9          </td><td>75         </td><td>3          </td><td>Overweight </td><td>140/95     </td><td>68         </td><td>7000       </td><td>Sleep Apnea</td></tr>\n",
       "</tbody>\n",
       "</table>\n"
      ],
      "text/latex": [
       "\\begin{tabular}{r|lllllllllllll}\n",
       " Person.ID & Gender & Age & Occupation & Sleep.Duration & Quality.of.Sleep & Physical.Activity.Level & Stress.Level & BMI.Category & Blood.Pressure & Heart.Rate & Daily.Steps & Sleep.Disorder\\\\\n",
       "\\hline\n",
       "\t  1                   & Male                 & 27                   & Software Engineer    & 6.1                  & 6                    & 42                   & 6                    & Overweight           & 126/83               & 77                   &  4200                & None                \\\\\n",
       "\t  2                   & Male                 & 28                   & Doctor               & 6.2                  & 6                    & 60                   & 8                    & Normal               & 125/80               & 75                   & 10000                & None                \\\\\n",
       "\t  3                   & Male                 & 28                   & Doctor               & 6.2                  & 6                    & 60                   & 8                    & Normal               & 125/80               & 75                   & 10000                & None                \\\\\n",
       "\t  4                   & Male                 & 28                   & Sales Representative & 5.9                  & 4                    & 30                   & 8                    & Obese                & 140/90               & 85                   &  3000                & Sleep Apnea         \\\\\n",
       "\t  5                   & Male                 & 28                   & Sales Representative & 5.9                  & 4                    & 30                   & 8                    & Obese                & 140/90               & 85                   &  3000                & Sleep Apnea         \\\\\n",
       "\t  6                   & Male                 & 28                   & Software Engineer    & 5.9                  & 4                    & 30                   & 8                    & Obese                & 140/90               & 85                   &  3000                & Insomnia            \\\\\n",
       "\t  7                   & Male                 & 29                   & Teacher              & 6.3                  & 6                    & 40                   & 7                    & Obese                & 140/90               & 82                   &  3500                & Insomnia            \\\\\n",
       "\t  8                   & Male                 & 29                   & Doctor               & 7.8                  & 7                    & 75                   & 6                    & Normal               & 120/80               & 70                   &  8000                & None                \\\\\n",
       "\t  9                   & Male                 & 29                   & Doctor               & 7.8                  & 7                    & 75                   & 6                    & Normal               & 120/80               & 70                   &  8000                & None                \\\\\n",
       "\t 10                   & Male                 & 29                   & Doctor               & 7.8                  & 7                    & 75                   & 6                    & Normal               & 120/80               & 70                   &  8000                & None                \\\\\n",
       "\t 11                   & Male                 & 29                   & Doctor               & 6.1                  & 6                    & 30                   & 8                    & Normal               & 120/80               & 70                   &  8000                & None                \\\\\n",
       "\t 12                   & Male                 & 29                   & Doctor               & 7.8                  & 7                    & 75                   & 6                    & Normal               & 120/80               & 70                   &  8000                & None                \\\\\n",
       "\t 13                   & Male                 & 29                   & Doctor               & 6.1                  & 6                    & 30                   & 8                    & Normal               & 120/80               & 70                   &  8000                & None                \\\\\n",
       "\t 14                   & Male                 & 29                   & Doctor               & 6.0                  & 6                    & 30                   & 8                    & Normal               & 120/80               & 70                   &  8000                & None                \\\\\n",
       "\t 15                   & Male                 & 29                   & Doctor               & 6.0                  & 6                    & 30                   & 8                    & Normal               & 120/80               & 70                   &  8000                & None                \\\\\n",
       "\t 16                   & Male                 & 29                   & Doctor               & 6.0                  & 6                    & 30                   & 8                    & Normal               & 120/80               & 70                   &  8000                & None                \\\\\n",
       "\t 17                   & Female               & 29                   & Nurse                & 6.5                  & 5                    & 40                   & 7                    & Normal Weight        & 132/87               & 80                   &  4000                & Sleep Apnea         \\\\\n",
       "\t 18                   & Male                 & 29                   & Doctor               & 6.0                  & 6                    & 30                   & 8                    & Normal               & 120/80               & 70                   &  8000                & Sleep Apnea         \\\\\n",
       "\t 19                   & Female               & 29                   & Nurse                & 6.5                  & 5                    & 40                   & 7                    & Normal Weight        & 132/87               & 80                   &  4000                & Insomnia            \\\\\n",
       "\t 20                   & Male                 & 30                   & Doctor               & 7.6                  & 7                    & 75                   & 6                    & Normal               & 120/80               & 70                   &  8000                & None                \\\\\n",
       "\t 21                   & Male                 & 30                   & Doctor               & 7.7                  & 7                    & 75                   & 6                    & Normal               & 120/80               & 70                   &  8000                & None                \\\\\n",
       "\t 22                   & Male                 & 30                   & Doctor               & 7.7                  & 7                    & 75                   & 6                    & Normal               & 120/80               & 70                   &  8000                & None                \\\\\n",
       "\t 23                   & Male                 & 30                   & Doctor               & 7.7                  & 7                    & 75                   & 6                    & Normal               & 120/80               & 70                   &  8000                & None                \\\\\n",
       "\t 24                   & Male                 & 30                   & Doctor               & 7.7                  & 7                    & 75                   & 6                    & Normal               & 120/80               & 70                   &  8000                & None                \\\\\n",
       "\t 25                   & Male                 & 30                   & Doctor               & 7.8                  & 7                    & 75                   & 6                    & Normal               & 120/80               & 70                   &  8000                & None                \\\\\n",
       "\t 26                   & Male                 & 30                   & Doctor               & 7.9                  & 7                    & 75                   & 6                    & Normal               & 120/80               & 70                   &  8000                & None                \\\\\n",
       "\t 27                   & Male                 & 30                   & Doctor               & 7.8                  & 7                    & 75                   & 6                    & Normal               & 120/80               & 70                   &  8000                & None                \\\\\n",
       "\t 28                   & Male                 & 30                   & Doctor               & 7.9                  & 7                    & 75                   & 6                    & Normal               & 120/80               & 70                   &  8000                & None                \\\\\n",
       "\t 29                   & Male                 & 30                   & Doctor               & 7.9                  & 7                    & 75                   & 6                    & Normal               & 120/80               & 70                   &  8000                & None                \\\\\n",
       "\t 30                   & Male                 & 30                   & Doctor               & 7.9                  & 7                    & 75                   & 6                    & Normal               & 120/80               & 70                   &  8000                & None                \\\\\n",
       "\t ... & ... & ... & ... & ... & ... & ... & ... & ... & ... & ... & ... & ...\\\\\n",
       "\t 345         & Female      & 57          & Nurse       & 8.2         & 9           & 75          & 3           & Overweight  & 140/95      & 68          & 7000        & Sleep Apnea\\\\\n",
       "\t 346         & Female      & 57          & Nurse       & 8.2         & 9           & 75          & 3           & Overweight  & 140/95      & 68          & 7000        & Sleep Apnea\\\\\n",
       "\t 347         & Female      & 57          & Nurse       & 8.2         & 9           & 75          & 3           & Overweight  & 140/95      & 68          & 7000        & Sleep Apnea\\\\\n",
       "\t 348         & Female      & 57          & Nurse       & 8.2         & 9           & 75          & 3           & Overweight  & 140/95      & 68          & 7000        & Sleep Apnea\\\\\n",
       "\t 349         & Female      & 57          & Nurse       & 8.2         & 9           & 75          & 3           & Overweight  & 140/95      & 68          & 7000        & Sleep Apnea\\\\\n",
       "\t 350         & Female      & 57          & Nurse       & 8.1         & 9           & 75          & 3           & Overweight  & 140/95      & 68          & 7000        & Sleep Apnea\\\\\n",
       "\t 351         & Female      & 57          & Nurse       & 8.1         & 9           & 75          & 3           & Overweight  & 140/95      & 68          & 7000        & Sleep Apnea\\\\\n",
       "\t 352         & Female      & 57          & Nurse       & 8.1         & 9           & 75          & 3           & Overweight  & 140/95      & 68          & 7000        & Sleep Apnea\\\\\n",
       "\t 353         & Female      & 58          & Nurse       & 8.0         & 9           & 75          & 3           & Overweight  & 140/95      & 68          & 7000        & Sleep Apnea\\\\\n",
       "\t 354         & Female      & 58          & Nurse       & 8.0         & 9           & 75          & 3           & Overweight  & 140/95      & 68          & 7000        & Sleep Apnea\\\\\n",
       "\t 355         & Female      & 58          & Nurse       & 8.0         & 9           & 75          & 3           & Overweight  & 140/95      & 68          & 7000        & Sleep Apnea\\\\\n",
       "\t 356         & Female      & 58          & Nurse       & 8.0         & 9           & 75          & 3           & Overweight  & 140/95      & 68          & 7000        & Sleep Apnea\\\\\n",
       "\t 357         & Female      & 58          & Nurse       & 8.0         & 9           & 75          & 3           & Overweight  & 140/95      & 68          & 7000        & Sleep Apnea\\\\\n",
       "\t 358         & Female      & 58          & Nurse       & 8.0         & 9           & 75          & 3           & Overweight  & 140/95      & 68          & 7000        & Sleep Apnea\\\\\n",
       "\t 359         & Female      & 59          & Nurse       & 8.0         & 9           & 75          & 3           & Overweight  & 140/95      & 68          & 7000        & None       \\\\\n",
       "\t 360         & Female      & 59          & Nurse       & 8.1         & 9           & 75          & 3           & Overweight  & 140/95      & 68          & 7000        & None       \\\\\n",
       "\t 361         & Female      & 59          & Nurse       & 8.2         & 9           & 75          & 3           & Overweight  & 140/95      & 68          & 7000        & Sleep Apnea\\\\\n",
       "\t 362         & Female      & 59          & Nurse       & 8.2         & 9           & 75          & 3           & Overweight  & 140/95      & 68          & 7000        & Sleep Apnea\\\\\n",
       "\t 363         & Female      & 59          & Nurse       & 8.2         & 9           & 75          & 3           & Overweight  & 140/95      & 68          & 7000        & Sleep Apnea\\\\\n",
       "\t 364         & Female      & 59          & Nurse       & 8.2         & 9           & 75          & 3           & Overweight  & 140/95      & 68          & 7000        & Sleep Apnea\\\\\n",
       "\t 365         & Female      & 59          & Nurse       & 8.0         & 9           & 75          & 3           & Overweight  & 140/95      & 68          & 7000        & Sleep Apnea\\\\\n",
       "\t 366         & Female      & 59          & Nurse       & 8.0         & 9           & 75          & 3           & Overweight  & 140/95      & 68          & 7000        & Sleep Apnea\\\\\n",
       "\t 367         & Female      & 59          & Nurse       & 8.1         & 9           & 75          & 3           & Overweight  & 140/95      & 68          & 7000        & Sleep Apnea\\\\\n",
       "\t 368         & Female      & 59          & Nurse       & 8.0         & 9           & 75          & 3           & Overweight  & 140/95      & 68          & 7000        & Sleep Apnea\\\\\n",
       "\t 369         & Female      & 59          & Nurse       & 8.1         & 9           & 75          & 3           & Overweight  & 140/95      & 68          & 7000        & Sleep Apnea\\\\\n",
       "\t 370         & Female      & 59          & Nurse       & 8.1         & 9           & 75          & 3           & Overweight  & 140/95      & 68          & 7000        & Sleep Apnea\\\\\n",
       "\t 371         & Female      & 59          & Nurse       & 8.0         & 9           & 75          & 3           & Overweight  & 140/95      & 68          & 7000        & Sleep Apnea\\\\\n",
       "\t 372         & Female      & 59          & Nurse       & 8.1         & 9           & 75          & 3           & Overweight  & 140/95      & 68          & 7000        & Sleep Apnea\\\\\n",
       "\t 373         & Female      & 59          & Nurse       & 8.1         & 9           & 75          & 3           & Overweight  & 140/95      & 68          & 7000        & Sleep Apnea\\\\\n",
       "\t 374         & Female      & 59          & Nurse       & 8.1         & 9           & 75          & 3           & Overweight  & 140/95      & 68          & 7000        & Sleep Apnea\\\\\n",
       "\\end{tabular}\n"
      ],
      "text/markdown": [
       "\n",
       "| Person.ID | Gender | Age | Occupation | Sleep.Duration | Quality.of.Sleep | Physical.Activity.Level | Stress.Level | BMI.Category | Blood.Pressure | Heart.Rate | Daily.Steps | Sleep.Disorder |\n",
       "|---|---|---|---|---|---|---|---|---|---|---|---|---|\n",
       "|  1                   | Male                 | 27                   | Software Engineer    | 6.1                  | 6                    | 42                   | 6                    | Overweight           | 126/83               | 77                   |  4200                | None                 |\n",
       "|  2                   | Male                 | 28                   | Doctor               | 6.2                  | 6                    | 60                   | 8                    | Normal               | 125/80               | 75                   | 10000                | None                 |\n",
       "|  3                   | Male                 | 28                   | Doctor               | 6.2                  | 6                    | 60                   | 8                    | Normal               | 125/80               | 75                   | 10000                | None                 |\n",
       "|  4                   | Male                 | 28                   | Sales Representative | 5.9                  | 4                    | 30                   | 8                    | Obese                | 140/90               | 85                   |  3000                | Sleep Apnea          |\n",
       "|  5                   | Male                 | 28                   | Sales Representative | 5.9                  | 4                    | 30                   | 8                    | Obese                | 140/90               | 85                   |  3000                | Sleep Apnea          |\n",
       "|  6                   | Male                 | 28                   | Software Engineer    | 5.9                  | 4                    | 30                   | 8                    | Obese                | 140/90               | 85                   |  3000                | Insomnia             |\n",
       "|  7                   | Male                 | 29                   | Teacher              | 6.3                  | 6                    | 40                   | 7                    | Obese                | 140/90               | 82                   |  3500                | Insomnia             |\n",
       "|  8                   | Male                 | 29                   | Doctor               | 7.8                  | 7                    | 75                   | 6                    | Normal               | 120/80               | 70                   |  8000                | None                 |\n",
       "|  9                   | Male                 | 29                   | Doctor               | 7.8                  | 7                    | 75                   | 6                    | Normal               | 120/80               | 70                   |  8000                | None                 |\n",
       "| 10                   | Male                 | 29                   | Doctor               | 7.8                  | 7                    | 75                   | 6                    | Normal               | 120/80               | 70                   |  8000                | None                 |\n",
       "| 11                   | Male                 | 29                   | Doctor               | 6.1                  | 6                    | 30                   | 8                    | Normal               | 120/80               | 70                   |  8000                | None                 |\n",
       "| 12                   | Male                 | 29                   | Doctor               | 7.8                  | 7                    | 75                   | 6                    | Normal               | 120/80               | 70                   |  8000                | None                 |\n",
       "| 13                   | Male                 | 29                   | Doctor               | 6.1                  | 6                    | 30                   | 8                    | Normal               | 120/80               | 70                   |  8000                | None                 |\n",
       "| 14                   | Male                 | 29                   | Doctor               | 6.0                  | 6                    | 30                   | 8                    | Normal               | 120/80               | 70                   |  8000                | None                 |\n",
       "| 15                   | Male                 | 29                   | Doctor               | 6.0                  | 6                    | 30                   | 8                    | Normal               | 120/80               | 70                   |  8000                | None                 |\n",
       "| 16                   | Male                 | 29                   | Doctor               | 6.0                  | 6                    | 30                   | 8                    | Normal               | 120/80               | 70                   |  8000                | None                 |\n",
       "| 17                   | Female               | 29                   | Nurse                | 6.5                  | 5                    | 40                   | 7                    | Normal Weight        | 132/87               | 80                   |  4000                | Sleep Apnea          |\n",
       "| 18                   | Male                 | 29                   | Doctor               | 6.0                  | 6                    | 30                   | 8                    | Normal               | 120/80               | 70                   |  8000                | Sleep Apnea          |\n",
       "| 19                   | Female               | 29                   | Nurse                | 6.5                  | 5                    | 40                   | 7                    | Normal Weight        | 132/87               | 80                   |  4000                | Insomnia             |\n",
       "| 20                   | Male                 | 30                   | Doctor               | 7.6                  | 7                    | 75                   | 6                    | Normal               | 120/80               | 70                   |  8000                | None                 |\n",
       "| 21                   | Male                 | 30                   | Doctor               | 7.7                  | 7                    | 75                   | 6                    | Normal               | 120/80               | 70                   |  8000                | None                 |\n",
       "| 22                   | Male                 | 30                   | Doctor               | 7.7                  | 7                    | 75                   | 6                    | Normal               | 120/80               | 70                   |  8000                | None                 |\n",
       "| 23                   | Male                 | 30                   | Doctor               | 7.7                  | 7                    | 75                   | 6                    | Normal               | 120/80               | 70                   |  8000                | None                 |\n",
       "| 24                   | Male                 | 30                   | Doctor               | 7.7                  | 7                    | 75                   | 6                    | Normal               | 120/80               | 70                   |  8000                | None                 |\n",
       "| 25                   | Male                 | 30                   | Doctor               | 7.8                  | 7                    | 75                   | 6                    | Normal               | 120/80               | 70                   |  8000                | None                 |\n",
       "| 26                   | Male                 | 30                   | Doctor               | 7.9                  | 7                    | 75                   | 6                    | Normal               | 120/80               | 70                   |  8000                | None                 |\n",
       "| 27                   | Male                 | 30                   | Doctor               | 7.8                  | 7                    | 75                   | 6                    | Normal               | 120/80               | 70                   |  8000                | None                 |\n",
       "| 28                   | Male                 | 30                   | Doctor               | 7.9                  | 7                    | 75                   | 6                    | Normal               | 120/80               | 70                   |  8000                | None                 |\n",
       "| 29                   | Male                 | 30                   | Doctor               | 7.9                  | 7                    | 75                   | 6                    | Normal               | 120/80               | 70                   |  8000                | None                 |\n",
       "| 30                   | Male                 | 30                   | Doctor               | 7.9                  | 7                    | 75                   | 6                    | Normal               | 120/80               | 70                   |  8000                | None                 |\n",
       "| ... | ... | ... | ... | ... | ... | ... | ... | ... | ... | ... | ... | ... |\n",
       "| 345         | Female      | 57          | Nurse       | 8.2         | 9           | 75          | 3           | Overweight  | 140/95      | 68          | 7000        | Sleep Apnea |\n",
       "| 346         | Female      | 57          | Nurse       | 8.2         | 9           | 75          | 3           | Overweight  | 140/95      | 68          | 7000        | Sleep Apnea |\n",
       "| 347         | Female      | 57          | Nurse       | 8.2         | 9           | 75          | 3           | Overweight  | 140/95      | 68          | 7000        | Sleep Apnea |\n",
       "| 348         | Female      | 57          | Nurse       | 8.2         | 9           | 75          | 3           | Overweight  | 140/95      | 68          | 7000        | Sleep Apnea |\n",
       "| 349         | Female      | 57          | Nurse       | 8.2         | 9           | 75          | 3           | Overweight  | 140/95      | 68          | 7000        | Sleep Apnea |\n",
       "| 350         | Female      | 57          | Nurse       | 8.1         | 9           | 75          | 3           | Overweight  | 140/95      | 68          | 7000        | Sleep Apnea |\n",
       "| 351         | Female      | 57          | Nurse       | 8.1         | 9           | 75          | 3           | Overweight  | 140/95      | 68          | 7000        | Sleep Apnea |\n",
       "| 352         | Female      | 57          | Nurse       | 8.1         | 9           | 75          | 3           | Overweight  | 140/95      | 68          | 7000        | Sleep Apnea |\n",
       "| 353         | Female      | 58          | Nurse       | 8.0         | 9           | 75          | 3           | Overweight  | 140/95      | 68          | 7000        | Sleep Apnea |\n",
       "| 354         | Female      | 58          | Nurse       | 8.0         | 9           | 75          | 3           | Overweight  | 140/95      | 68          | 7000        | Sleep Apnea |\n",
       "| 355         | Female      | 58          | Nurse       | 8.0         | 9           | 75          | 3           | Overweight  | 140/95      | 68          | 7000        | Sleep Apnea |\n",
       "| 356         | Female      | 58          | Nurse       | 8.0         | 9           | 75          | 3           | Overweight  | 140/95      | 68          | 7000        | Sleep Apnea |\n",
       "| 357         | Female      | 58          | Nurse       | 8.0         | 9           | 75          | 3           | Overweight  | 140/95      | 68          | 7000        | Sleep Apnea |\n",
       "| 358         | Female      | 58          | Nurse       | 8.0         | 9           | 75          | 3           | Overweight  | 140/95      | 68          | 7000        | Sleep Apnea |\n",
       "| 359         | Female      | 59          | Nurse       | 8.0         | 9           | 75          | 3           | Overweight  | 140/95      | 68          | 7000        | None        |\n",
       "| 360         | Female      | 59          | Nurse       | 8.1         | 9           | 75          | 3           | Overweight  | 140/95      | 68          | 7000        | None        |\n",
       "| 361         | Female      | 59          | Nurse       | 8.2         | 9           | 75          | 3           | Overweight  | 140/95      | 68          | 7000        | Sleep Apnea |\n",
       "| 362         | Female      | 59          | Nurse       | 8.2         | 9           | 75          | 3           | Overweight  | 140/95      | 68          | 7000        | Sleep Apnea |\n",
       "| 363         | Female      | 59          | Nurse       | 8.2         | 9           | 75          | 3           | Overweight  | 140/95      | 68          | 7000        | Sleep Apnea |\n",
       "| 364         | Female      | 59          | Nurse       | 8.2         | 9           | 75          | 3           | Overweight  | 140/95      | 68          | 7000        | Sleep Apnea |\n",
       "| 365         | Female      | 59          | Nurse       | 8.0         | 9           | 75          | 3           | Overweight  | 140/95      | 68          | 7000        | Sleep Apnea |\n",
       "| 366         | Female      | 59          | Nurse       | 8.0         | 9           | 75          | 3           | Overweight  | 140/95      | 68          | 7000        | Sleep Apnea |\n",
       "| 367         | Female      | 59          | Nurse       | 8.1         | 9           | 75          | 3           | Overweight  | 140/95      | 68          | 7000        | Sleep Apnea |\n",
       "| 368         | Female      | 59          | Nurse       | 8.0         | 9           | 75          | 3           | Overweight  | 140/95      | 68          | 7000        | Sleep Apnea |\n",
       "| 369         | Female      | 59          | Nurse       | 8.1         | 9           | 75          | 3           | Overweight  | 140/95      | 68          | 7000        | Sleep Apnea |\n",
       "| 370         | Female      | 59          | Nurse       | 8.1         | 9           | 75          | 3           | Overweight  | 140/95      | 68          | 7000        | Sleep Apnea |\n",
       "| 371         | Female      | 59          | Nurse       | 8.0         | 9           | 75          | 3           | Overweight  | 140/95      | 68          | 7000        | Sleep Apnea |\n",
       "| 372         | Female      | 59          | Nurse       | 8.1         | 9           | 75          | 3           | Overweight  | 140/95      | 68          | 7000        | Sleep Apnea |\n",
       "| 373         | Female      | 59          | Nurse       | 8.1         | 9           | 75          | 3           | Overweight  | 140/95      | 68          | 7000        | Sleep Apnea |\n",
       "| 374         | Female      | 59          | Nurse       | 8.1         | 9           | 75          | 3           | Overweight  | 140/95      | 68          | 7000        | Sleep Apnea |\n",
       "\n"
      ],
      "text/plain": [
       "    Person.ID Gender Age Occupation           Sleep.Duration Quality.of.Sleep\n",
       "1    1        Male   27  Software Engineer    6.1            6               \n",
       "2    2        Male   28  Doctor               6.2            6               \n",
       "3    3        Male   28  Doctor               6.2            6               \n",
       "4    4        Male   28  Sales Representative 5.9            4               \n",
       "5    5        Male   28  Sales Representative 5.9            4               \n",
       "6    6        Male   28  Software Engineer    5.9            4               \n",
       "7    7        Male   29  Teacher              6.3            6               \n",
       "8    8        Male   29  Doctor               7.8            7               \n",
       "9    9        Male   29  Doctor               7.8            7               \n",
       "10  10        Male   29  Doctor               7.8            7               \n",
       "11  11        Male   29  Doctor               6.1            6               \n",
       "12  12        Male   29  Doctor               7.8            7               \n",
       "13  13        Male   29  Doctor               6.1            6               \n",
       "14  14        Male   29  Doctor               6.0            6               \n",
       "15  15        Male   29  Doctor               6.0            6               \n",
       "16  16        Male   29  Doctor               6.0            6               \n",
       "17  17        Female 29  Nurse                6.5            5               \n",
       "18  18        Male   29  Doctor               6.0            6               \n",
       "19  19        Female 29  Nurse                6.5            5               \n",
       "20  20        Male   30  Doctor               7.6            7               \n",
       "21  21        Male   30  Doctor               7.7            7               \n",
       "22  22        Male   30  Doctor               7.7            7               \n",
       "23  23        Male   30  Doctor               7.7            7               \n",
       "24  24        Male   30  Doctor               7.7            7               \n",
       "25  25        Male   30  Doctor               7.8            7               \n",
       "26  26        Male   30  Doctor               7.9            7               \n",
       "27  27        Male   30  Doctor               7.8            7               \n",
       "28  28        Male   30  Doctor               7.9            7               \n",
       "29  29        Male   30  Doctor               7.9            7               \n",
       "30  30        Male   30  Doctor               7.9            7               \n",
       "... ...       ...    ... ...                  ...            ...             \n",
       "345 345       Female 57  Nurse                8.2            9               \n",
       "346 346       Female 57  Nurse                8.2            9               \n",
       "347 347       Female 57  Nurse                8.2            9               \n",
       "348 348       Female 57  Nurse                8.2            9               \n",
       "349 349       Female 57  Nurse                8.2            9               \n",
       "350 350       Female 57  Nurse                8.1            9               \n",
       "351 351       Female 57  Nurse                8.1            9               \n",
       "352 352       Female 57  Nurse                8.1            9               \n",
       "353 353       Female 58  Nurse                8.0            9               \n",
       "354 354       Female 58  Nurse                8.0            9               \n",
       "355 355       Female 58  Nurse                8.0            9               \n",
       "356 356       Female 58  Nurse                8.0            9               \n",
       "357 357       Female 58  Nurse                8.0            9               \n",
       "358 358       Female 58  Nurse                8.0            9               \n",
       "359 359       Female 59  Nurse                8.0            9               \n",
       "360 360       Female 59  Nurse                8.1            9               \n",
       "361 361       Female 59  Nurse                8.2            9               \n",
       "362 362       Female 59  Nurse                8.2            9               \n",
       "363 363       Female 59  Nurse                8.2            9               \n",
       "364 364       Female 59  Nurse                8.2            9               \n",
       "365 365       Female 59  Nurse                8.0            9               \n",
       "366 366       Female 59  Nurse                8.0            9               \n",
       "367 367       Female 59  Nurse                8.1            9               \n",
       "368 368       Female 59  Nurse                8.0            9               \n",
       "369 369       Female 59  Nurse                8.1            9               \n",
       "370 370       Female 59  Nurse                8.1            9               \n",
       "371 371       Female 59  Nurse                8.0            9               \n",
       "372 372       Female 59  Nurse                8.1            9               \n",
       "373 373       Female 59  Nurse                8.1            9               \n",
       "374 374       Female 59  Nurse                8.1            9               \n",
       "    Physical.Activity.Level Stress.Level BMI.Category  Blood.Pressure\n",
       "1   42                      6            Overweight    126/83        \n",
       "2   60                      8            Normal        125/80        \n",
       "3   60                      8            Normal        125/80        \n",
       "4   30                      8            Obese         140/90        \n",
       "5   30                      8            Obese         140/90        \n",
       "6   30                      8            Obese         140/90        \n",
       "7   40                      7            Obese         140/90        \n",
       "8   75                      6            Normal        120/80        \n",
       "9   75                      6            Normal        120/80        \n",
       "10  75                      6            Normal        120/80        \n",
       "11  30                      8            Normal        120/80        \n",
       "12  75                      6            Normal        120/80        \n",
       "13  30                      8            Normal        120/80        \n",
       "14  30                      8            Normal        120/80        \n",
       "15  30                      8            Normal        120/80        \n",
       "16  30                      8            Normal        120/80        \n",
       "17  40                      7            Normal Weight 132/87        \n",
       "18  30                      8            Normal        120/80        \n",
       "19  40                      7            Normal Weight 132/87        \n",
       "20  75                      6            Normal        120/80        \n",
       "21  75                      6            Normal        120/80        \n",
       "22  75                      6            Normal        120/80        \n",
       "23  75                      6            Normal        120/80        \n",
       "24  75                      6            Normal        120/80        \n",
       "25  75                      6            Normal        120/80        \n",
       "26  75                      6            Normal        120/80        \n",
       "27  75                      6            Normal        120/80        \n",
       "28  75                      6            Normal        120/80        \n",
       "29  75                      6            Normal        120/80        \n",
       "30  75                      6            Normal        120/80        \n",
       "... ...                     ...          ...           ...           \n",
       "345 75                      3            Overweight    140/95        \n",
       "346 75                      3            Overweight    140/95        \n",
       "347 75                      3            Overweight    140/95        \n",
       "348 75                      3            Overweight    140/95        \n",
       "349 75                      3            Overweight    140/95        \n",
       "350 75                      3            Overweight    140/95        \n",
       "351 75                      3            Overweight    140/95        \n",
       "352 75                      3            Overweight    140/95        \n",
       "353 75                      3            Overweight    140/95        \n",
       "354 75                      3            Overweight    140/95        \n",
       "355 75                      3            Overweight    140/95        \n",
       "356 75                      3            Overweight    140/95        \n",
       "357 75                      3            Overweight    140/95        \n",
       "358 75                      3            Overweight    140/95        \n",
       "359 75                      3            Overweight    140/95        \n",
       "360 75                      3            Overweight    140/95        \n",
       "361 75                      3            Overweight    140/95        \n",
       "362 75                      3            Overweight    140/95        \n",
       "363 75                      3            Overweight    140/95        \n",
       "364 75                      3            Overweight    140/95        \n",
       "365 75                      3            Overweight    140/95        \n",
       "366 75                      3            Overweight    140/95        \n",
       "367 75                      3            Overweight    140/95        \n",
       "368 75                      3            Overweight    140/95        \n",
       "369 75                      3            Overweight    140/95        \n",
       "370 75                      3            Overweight    140/95        \n",
       "371 75                      3            Overweight    140/95        \n",
       "372 75                      3            Overweight    140/95        \n",
       "373 75                      3            Overweight    140/95        \n",
       "374 75                      3            Overweight    140/95        \n",
       "    Heart.Rate Daily.Steps Sleep.Disorder\n",
       "1   77          4200       None          \n",
       "2   75         10000       None          \n",
       "3   75         10000       None          \n",
       "4   85          3000       Sleep Apnea   \n",
       "5   85          3000       Sleep Apnea   \n",
       "6   85          3000       Insomnia      \n",
       "7   82          3500       Insomnia      \n",
       "8   70          8000       None          \n",
       "9   70          8000       None          \n",
       "10  70          8000       None          \n",
       "11  70          8000       None          \n",
       "12  70          8000       None          \n",
       "13  70          8000       None          \n",
       "14  70          8000       None          \n",
       "15  70          8000       None          \n",
       "16  70          8000       None          \n",
       "17  80          4000       Sleep Apnea   \n",
       "18  70          8000       Sleep Apnea   \n",
       "19  80          4000       Insomnia      \n",
       "20  70          8000       None          \n",
       "21  70          8000       None          \n",
       "22  70          8000       None          \n",
       "23  70          8000       None          \n",
       "24  70          8000       None          \n",
       "25  70          8000       None          \n",
       "26  70          8000       None          \n",
       "27  70          8000       None          \n",
       "28  70          8000       None          \n",
       "29  70          8000       None          \n",
       "30  70          8000       None          \n",
       "... ...        ...         ...           \n",
       "345 68         7000        Sleep Apnea   \n",
       "346 68         7000        Sleep Apnea   \n",
       "347 68         7000        Sleep Apnea   \n",
       "348 68         7000        Sleep Apnea   \n",
       "349 68         7000        Sleep Apnea   \n",
       "350 68         7000        Sleep Apnea   \n",
       "351 68         7000        Sleep Apnea   \n",
       "352 68         7000        Sleep Apnea   \n",
       "353 68         7000        Sleep Apnea   \n",
       "354 68         7000        Sleep Apnea   \n",
       "355 68         7000        Sleep Apnea   \n",
       "356 68         7000        Sleep Apnea   \n",
       "357 68         7000        Sleep Apnea   \n",
       "358 68         7000        Sleep Apnea   \n",
       "359 68         7000        None          \n",
       "360 68         7000        None          \n",
       "361 68         7000        Sleep Apnea   \n",
       "362 68         7000        Sleep Apnea   \n",
       "363 68         7000        Sleep Apnea   \n",
       "364 68         7000        Sleep Apnea   \n",
       "365 68         7000        Sleep Apnea   \n",
       "366 68         7000        Sleep Apnea   \n",
       "367 68         7000        Sleep Apnea   \n",
       "368 68         7000        Sleep Apnea   \n",
       "369 68         7000        Sleep Apnea   \n",
       "370 68         7000        Sleep Apnea   \n",
       "371 68         7000        Sleep Apnea   \n",
       "372 68         7000        Sleep Apnea   \n",
       "373 68         7000        Sleep Apnea   \n",
       "374 68         7000        Sleep Apnea   "
      ]
     },
     "metadata": {},
     "output_type": "display_data"
    }
   ],
   "source": [
    "options(warn=0)\n",
    "all_df <- read.csv(\"sleep.csv\")\n",
    "all_df"
   ]
  },
  {
   "cell_type": "markdown",
   "id": "a132a5ab",
   "metadata": {},
   "source": [
    "# 2. Analiza eksploracyjna oraz wyznaczenie statystyk opisowych\n",
    "### 2.1 Ogólna długość snu\n",
    "Na początek prosta analiza. Utworzony zostanie szereg rozdzielczy zawierający przedziały czasu trwania snu oraz histogram opisujący długość snu. Na początek bez analizy innych parametrów. Liczba klas (k) zostanie wyliczona na podstawie wzoru:\n",
    "\n",
    "$$\n",
    "  k\\approx \\sqrt{n}\n",
    "$$\n",
    "\n",
    "Przy czym wartość ta zostanie zaokrąglona w górę do najbliższej liczby całkowitej."
   ]
  },
  {
   "cell_type": "code",
   "execution_count": 131,
   "id": "0ee6f5c6",
   "metadata": {},
   "outputs": [
    {
     "data": {
      "text/html": [
       "<table>\n",
       "<thead><tr><th scope=col>Czas snu (h)</th><th scope=col>Częstość</th></tr></thead>\n",
       "<tbody>\n",
       "\t<tr><td>(5.8,5.93] </td><td> 6         </td></tr>\n",
       "\t<tr><td>(5.93,6.07]</td><td>31         </td></tr>\n",
       "\t<tr><td>(6.07,6.21]</td><td>37         </td></tr>\n",
       "\t<tr><td>(6.21,6.34]</td><td>13         </td></tr>\n",
       "\t<tr><td>(6.34,6.47]</td><td> 9         </td></tr>\n",
       "\t<tr><td>(6.47,6.61]</td><td>46         </td></tr>\n",
       "\t<tr><td>(6.61,6.75]</td><td> 5         </td></tr>\n",
       "\t<tr><td>(6.75,6.88]</td><td> 5         </td></tr>\n",
       "\t<tr><td>(6.88,7.01]</td><td> 3         </td></tr>\n",
       "\t<tr><td>(7.01,7.15]</td><td>19         </td></tr>\n",
       "\t<tr><td>(7.15,7.29]</td><td>36         </td></tr>\n",
       "\t<tr><td>(7.29,7.42]</td><td>19         </td></tr>\n",
       "\t<tr><td>(7.42,7.55]</td><td> 5         </td></tr>\n",
       "\t<tr><td>(7.55,7.69]</td><td>10         </td></tr>\n",
       "\t<tr><td>(7.69,7.83]</td><td>52         </td></tr>\n",
       "\t<tr><td>(7.83,7.96]</td><td> 7         </td></tr>\n",
       "\t<tr><td>(7.96,8.09]</td><td>13         </td></tr>\n",
       "\t<tr><td>(8.09,8.23]</td><td>26         </td></tr>\n",
       "\t<tr><td>(8.23,8.37]</td><td> 5         </td></tr>\n",
       "\t<tr><td>(8.37,8.5] </td><td>27         </td></tr>\n",
       "</tbody>\n",
       "</table>\n"
      ],
      "text/latex": [
       "\\begin{tabular}{r|ll}\n",
       " Czas snu (h) & Częstość\\\\\n",
       "\\hline\n",
       "\t (5.8,5.93{]}  &  6           \\\\\n",
       "\t (5.93,6.07{]} & 31           \\\\\n",
       "\t (6.07,6.21{]} & 37           \\\\\n",
       "\t (6.21,6.34{]} & 13           \\\\\n",
       "\t (6.34,6.47{]} &  9           \\\\\n",
       "\t (6.47,6.61{]} & 46           \\\\\n",
       "\t (6.61,6.75{]} &  5           \\\\\n",
       "\t (6.75,6.88{]} &  5           \\\\\n",
       "\t (6.88,7.01{]} &  3           \\\\\n",
       "\t (7.01,7.15{]} & 19           \\\\\n",
       "\t (7.15,7.29{]} & 36           \\\\\n",
       "\t (7.29,7.42{]} & 19           \\\\\n",
       "\t (7.42,7.55{]} &  5           \\\\\n",
       "\t (7.55,7.69{]} & 10           \\\\\n",
       "\t (7.69,7.83{]} & 52           \\\\\n",
       "\t (7.83,7.96{]} &  7           \\\\\n",
       "\t (7.96,8.09{]} & 13           \\\\\n",
       "\t (8.09,8.23{]} & 26           \\\\\n",
       "\t (8.23,8.37{]} &  5           \\\\\n",
       "\t (8.37,8.5{]}  & 27           \\\\\n",
       "\\end{tabular}\n"
      ],
      "text/markdown": [
       "\n",
       "| Czas snu (h) | Częstość |\n",
       "|---|---|\n",
       "| (5.8,5.93]  |  6          |\n",
       "| (5.93,6.07] | 31          |\n",
       "| (6.07,6.21] | 37          |\n",
       "| (6.21,6.34] | 13          |\n",
       "| (6.34,6.47] |  9          |\n",
       "| (6.47,6.61] | 46          |\n",
       "| (6.61,6.75] |  5          |\n",
       "| (6.75,6.88] |  5          |\n",
       "| (6.88,7.01] |  3          |\n",
       "| (7.01,7.15] | 19          |\n",
       "| (7.15,7.29] | 36          |\n",
       "| (7.29,7.42] | 19          |\n",
       "| (7.42,7.55] |  5          |\n",
       "| (7.55,7.69] | 10          |\n",
       "| (7.69,7.83] | 52          |\n",
       "| (7.83,7.96] |  7          |\n",
       "| (7.96,8.09] | 13          |\n",
       "| (8.09,8.23] | 26          |\n",
       "| (8.23,8.37] |  5          |\n",
       "| (8.37,8.5]  | 27          |\n",
       "\n"
      ],
      "text/plain": [
       "   Czas snu (h) Częstość\n",
       "1  (5.8,5.93]    6      \n",
       "2  (5.93,6.07]  31      \n",
       "3  (6.07,6.21]  37      \n",
       "4  (6.21,6.34]  13      \n",
       "5  (6.34,6.47]   9      \n",
       "6  (6.47,6.61]  46      \n",
       "7  (6.61,6.75]   5      \n",
       "8  (6.75,6.88]   5      \n",
       "9  (6.88,7.01]   3      \n",
       "10 (7.01,7.15]  19      \n",
       "11 (7.15,7.29]  36      \n",
       "12 (7.29,7.42]  19      \n",
       "13 (7.42,7.55]   5      \n",
       "14 (7.55,7.69]  10      \n",
       "15 (7.69,7.83]  52      \n",
       "16 (7.83,7.96]   7      \n",
       "17 (7.96,8.09]  13      \n",
       "18 (8.09,8.23]  26      \n",
       "19 (8.23,8.37]   5      \n",
       "20 (8.37,8.5]   27      "
      ]
     },
     "metadata": {},
     "output_type": "display_data"
    }
   ],
   "source": [
    "n = nrow(all_df)\n",
    "k = ceiling(sqrt(n))\n",
    "sleep_durations <- cut(all_df$Sleep.Duration, breaks=k)\n",
    "czas_snu <- as.data.frame(table(sleep_durations))\n",
    "names(czas_snu) <- c(\"Czas snu (h)\", \"Częstość\")\n",
    "czas_snu"
   ]
  },
  {
   "cell_type": "markdown",
   "id": "ae5b3dfc",
   "metadata": {},
   "source": [
    "W przypadku histogramu, długość przedziału została wyznaczona na podstawie wzoru:\n",
    "$$\n",
    "h = \\alpha^m\\cdot2,64 \\cdot IQR \\cdot n^{-\\frac{1}{3}}\n",
    "$$\n",
    "Przy czym $\\alpha$ oraz $m$ to parametry dobrane empirycznie."
   ]
  },
  {
   "cell_type": "code",
   "execution_count": 132,
   "id": "7de1f34b",
   "metadata": {
    "scrolled": false
   },
   "outputs": [
    {
     "data": {
      "image/png": "[encoded data removed]",
      "text/plain": [
       "Plot with title \"Histogram długości snu\""
      ]
     },
     "metadata": {},
     "output_type": "display_data"
    }
   ],
   "source": [
    "alpha = 0.72\n",
    "m = 2\n",
    "h = (alpha^m)*2.64*IQR(all_df$Sleep.Duration)*n^(-1/3)\n",
    "hist(all_df$Sleep.Duration, breaks=(max(all_df$Sleep.Duration)-min(all_df$Sleep.Duration))/h, \n",
    "     main=\"Histogram długości snu\", xlab=\"Długość snu (godziny)\", ylab=\"Częstość\", col=\"cyan\")"
   ]
  },
  {
   "cell_type": "markdown",
   "id": "7c1260a5",
   "metadata": {},
   "source": [
    "Poniżej przedstawiono podstawowe statystyki opisowe powyższego zbioru danych. "
   ]
  },
  {
   "cell_type": "code",
   "execution_count": 133,
   "id": "498c25ee",
   "metadata": {},
   "outputs": [
    {
     "data": {
      "text/html": [
       "<table>\n",
       "<thead><tr><th></th><th scope=col>Wartości parametrów</th></tr></thead>\n",
       "<tbody>\n",
       "\t<tr><th scope=row>Średnia</th><td>7.13208556</td></tr>\n",
       "\t<tr><th scope=row>Wariancja</th><td>0.63306963</td></tr>\n",
       "\t<tr><th scope=row>Odchylenie standardowe</th><td>0.79565673</td></tr>\n",
       "\t<tr><th scope=row>Mediana</th><td>7.20000000</td></tr>\n",
       "\t<tr><th scope=row>Rozstęp międzykwartylowy</th><td>1.40000000</td></tr>\n",
       "\t<tr><th scope=row>Skośność</th><td>0.03725369</td></tr>\n",
       "\t<tr><th scope=row>Kurtoza</th><td>1.70547190</td></tr>\n",
       "</tbody>\n",
       "</table>\n"
      ],
      "text/latex": [
       "\\begin{tabular}{r|l}\n",
       "  & Wartości parametrów\\\\\n",
       "\\hline\n",
       "\tŚrednia & 7.13208556\\\\\n",
       "\tWariancja & 0.63306963\\\\\n",
       "\tOdchylenie standardowe & 0.79565673\\\\\n",
       "\tMediana & 7.20000000\\\\\n",
       "\tRozstęp międzykwartylowy & 1.40000000\\\\\n",
       "\tSkośność & 0.03725369\\\\\n",
       "\tKurtoza & 1.70547190\\\\\n",
       "\\end{tabular}\n"
      ],
      "text/markdown": [
       "\n",
       "| <!--/--> | Wartości parametrów |\n",
       "|---|---|\n",
       "| Średnia | 7.13208556 |\n",
       "| Wariancja | 0.63306963 |\n",
       "| Odchylenie standardowe | 0.79565673 |\n",
       "| Mediana | 7.20000000 |\n",
       "| Rozstęp międzykwartylowy | 1.40000000 |\n",
       "| Skośność | 0.03725369 |\n",
       "| Kurtoza | 1.70547190 |\n",
       "\n"
      ],
      "text/plain": [
       "                         Wartości parametrów\n",
       "Średnia                  7.13208556         \n",
       "Wariancja                0.63306963         \n",
       "Odchylenie standardowe   0.79565673         \n",
       "Mediana                  7.20000000         \n",
       "Rozstęp międzykwartylowy 1.40000000         \n",
       "Skośność                 0.03725369         \n",
       "Kurtoza                  1.70547190         "
      ]
     },
     "metadata": {},
     "output_type": "display_data"
    }
   ],
   "source": [
    "czas_snu <- all_df$Sleep.Duration\n",
    "n <- length(czas_snu)\n",
    "srednia <- mean(czas_snu)\n",
    "wariancja <- var(czas_snu)\n",
    "od_st <- sd(czas_snu)\n",
    "mediana <- median(czas_snu)\n",
    "IQR <- IQR(czas_snu)\n",
    "mom3 <- sum((czas_snu-srednia)^3)/n\n",
    "mom4 <- sum((czas_snu-srednia)^4)/n\n",
    "skosnosc <- mom3/(od_st^3)\n",
    "kurtoza <- mom4/(od_st^4)\n",
    "parametry <- c(srednia, wariancja, od_st, mediana, IQR, skosnosc, kurtoza)\n",
    "names(parametry) <- c(\"Średnia\", \"Wariancja\", \"Odchylenie standardowe\", \"Mediana\", \"Rozstęp międzykwartylowy\", \"Skośność\", \"Kurtoza\")\n",
    "parametry <- as.data.frame(parametry)\n",
    "colnames(parametry) <- \"Wartości parametrów\"\n",
    "parametry"
   ]
  },
  {
   "cell_type": "markdown",
   "id": "c532bca3",
   "metadata": {},
   "source": [
    "Zobaczmy, co powie nam analiza powyższych parametrów.\n",
    "\n",
    "Rzeczywiście wartość średniej zgadza się z tym, co widzimy na histogramie. Nie dziwi nas też wartość mediany. \n",
    "\n",
    "Wartość parametru skośności jest prawie równa 0, co może sugerować (ale nie musi), że rozkład danych jest niemal idealnie symetryczny. I rzeczywiście histogram ukazuje, że największa wartość częstości jest blisko połowy wartości rozstępu danych.\n",
    "\n",
    "Współczynnik kurtozy jest mniejszy niż 3, co wskazuje na to, że dane są \"mniej wyostrzone\" w stosunku do rozkładu normalnego.\n",
    "\n"
   ]
  },
  {
   "cell_type": "markdown",
   "id": "95c06e92",
   "metadata": {},
   "source": [
    "### 2.2 Długość snu ze względu na płeć\n",
    "Warto sprawdzić również, jak różnią się czasy snu kobiet i mężczyzn. W tym celu utworzone zostaną dwie zmiennie typu data frame. Dane również przedstawione zostaną za pomocą szeregów rozdzielczych i histogramów."
   ]
  },
  {
   "cell_type": "code",
   "execution_count": 134,
   "id": "36bf71e3",
   "metadata": {},
   "outputs": [],
   "source": [
    "female_df <- subset(all_df, Gender == \"Female\")\n",
    "male_df <- subset(all_df, Gender == \"Male\")"
   ]
  },
  {
   "cell_type": "code",
   "execution_count": 135,
   "id": "3dfa7d65",
   "metadata": {},
   "outputs": [
    {
     "data": {
      "text/html": [
       "<table>\n",
       "<thead><tr><th scope=col>Czas snu (h)</th><th scope=col>Częstość (mężczyźni)</th></tr></thead>\n",
       "<tbody>\n",
       "\t<tr><td>(5.9,6.06] </td><td>21         </td></tr>\n",
       "\t<tr><td>(6.06,6.21]</td><td>16         </td></tr>\n",
       "\t<tr><td>(6.21,6.37]</td><td>13         </td></tr>\n",
       "\t<tr><td>(6.37,6.53]</td><td>21         </td></tr>\n",
       "\t<tr><td>(6.53,6.69]</td><td> 2         </td></tr>\n",
       "\t<tr><td>(6.69,6.84]</td><td> 3         </td></tr>\n",
       "\t<tr><td>(6.84,7]   </td><td> 1         </td></tr>\n",
       "\t<tr><td>(7,7.16]   </td><td> 6         </td></tr>\n",
       "\t<tr><td>(7.16,7.31]</td><td>28         </td></tr>\n",
       "\t<tr><td>(7.31,7.47]</td><td> 4         </td></tr>\n",
       "\t<tr><td>(7.47,7.63]</td><td>14         </td></tr>\n",
       "\t<tr><td>(7.63,7.79]</td><td>24         </td></tr>\n",
       "\t<tr><td>(7.79,7.94]</td><td>34         </td></tr>\n",
       "\t<tr><td>(7.94,8.1] </td><td> 2         </td></tr>\n",
       "</tbody>\n",
       "</table>\n"
      ],
      "text/latex": [
       "\\begin{tabular}{r|ll}\n",
       " Czas snu (h) & Częstość (mężczyźni)\\\\\n",
       "\\hline\n",
       "\t (5.9,6.06{]}  & 21           \\\\\n",
       "\t (6.06,6.21{]} & 16           \\\\\n",
       "\t (6.21,6.37{]} & 13           \\\\\n",
       "\t (6.37,6.53{]} & 21           \\\\\n",
       "\t (6.53,6.69{]} &  2           \\\\\n",
       "\t (6.69,6.84{]} &  3           \\\\\n",
       "\t (6.84,7{]}    &  1           \\\\\n",
       "\t (7,7.16{]}    &  6           \\\\\n",
       "\t (7.16,7.31{]} & 28           \\\\\n",
       "\t (7.31,7.47{]} &  4           \\\\\n",
       "\t (7.47,7.63{]} & 14           \\\\\n",
       "\t (7.63,7.79{]} & 24           \\\\\n",
       "\t (7.79,7.94{]} & 34           \\\\\n",
       "\t (7.94,8.1{]}  &  2           \\\\\n",
       "\\end{tabular}\n"
      ],
      "text/markdown": [
       "\n",
       "| Czas snu (h) | Częstość (mężczyźni) |\n",
       "|---|---|\n",
       "| (5.9,6.06]  | 21          |\n",
       "| (6.06,6.21] | 16          |\n",
       "| (6.21,6.37] | 13          |\n",
       "| (6.37,6.53] | 21          |\n",
       "| (6.53,6.69] |  2          |\n",
       "| (6.69,6.84] |  3          |\n",
       "| (6.84,7]    |  1          |\n",
       "| (7,7.16]    |  6          |\n",
       "| (7.16,7.31] | 28          |\n",
       "| (7.31,7.47] |  4          |\n",
       "| (7.47,7.63] | 14          |\n",
       "| (7.63,7.79] | 24          |\n",
       "| (7.79,7.94] | 34          |\n",
       "| (7.94,8.1]  |  2          |\n",
       "\n"
      ],
      "text/plain": [
       "   Czas snu (h) Częstość (mężczyźni)\n",
       "1  (5.9,6.06]   21                  \n",
       "2  (6.06,6.21]  16                  \n",
       "3  (6.21,6.37]  13                  \n",
       "4  (6.37,6.53]  21                  \n",
       "5  (6.53,6.69]   2                  \n",
       "6  (6.69,6.84]   3                  \n",
       "7  (6.84,7]      1                  \n",
       "8  (7,7.16]      6                  \n",
       "9  (7.16,7.31]  28                  \n",
       "10 (7.31,7.47]   4                  \n",
       "11 (7.47,7.63]  14                  \n",
       "12 (7.63,7.79]  24                  \n",
       "13 (7.79,7.94]  34                  \n",
       "14 (7.94,8.1]    2                  "
      ]
     },
     "metadata": {},
     "output_type": "display_data"
    },
    {
     "data": {
      "text/html": [
       "<table>\n",
       "<thead><tr><th scope=col>Czas snu (h)</th><th scope=col>Częstość (kobiety)</th></tr></thead>\n",
       "<tbody>\n",
       "\t<tr><td>(5.8,5.99] </td><td> 3         </td></tr>\n",
       "\t<tr><td>(5.99,6.19]</td><td>28         </td></tr>\n",
       "\t<tr><td>(6.19,6.38]</td><td> 6         </td></tr>\n",
       "\t<tr><td>(6.38,6.57]</td><td>14         </td></tr>\n",
       "\t<tr><td>(6.57,6.76]</td><td>21         </td></tr>\n",
       "\t<tr><td>(6.76,6.96]</td><td> 6         </td></tr>\n",
       "\t<tr><td>(6.96,7.15]</td><td>13         </td></tr>\n",
       "\t<tr><td>(7.15,7.34]</td><td>22         </td></tr>\n",
       "\t<tr><td>(7.34,7.54]</td><td> 2         </td></tr>\n",
       "\t<tr><td>(7.54,7.73]</td><td> 0         </td></tr>\n",
       "\t<tr><td>(7.73,7.92]</td><td> 1         </td></tr>\n",
       "\t<tr><td>(7.92,8.11]</td><td>26         </td></tr>\n",
       "\t<tr><td>(8.11,8.31]</td><td>16         </td></tr>\n",
       "\t<tr><td>(8.31,8.5] </td><td>27         </td></tr>\n",
       "</tbody>\n",
       "</table>\n"
      ],
      "text/latex": [
       "\\begin{tabular}{r|ll}\n",
       " Czas snu (h) & Częstość (kobiety)\\\\\n",
       "\\hline\n",
       "\t (5.8,5.99{]}  &  3           \\\\\n",
       "\t (5.99,6.19{]} & 28           \\\\\n",
       "\t (6.19,6.38{]} &  6           \\\\\n",
       "\t (6.38,6.57{]} & 14           \\\\\n",
       "\t (6.57,6.76{]} & 21           \\\\\n",
       "\t (6.76,6.96{]} &  6           \\\\\n",
       "\t (6.96,7.15{]} & 13           \\\\\n",
       "\t (7.15,7.34{]} & 22           \\\\\n",
       "\t (7.34,7.54{]} &  2           \\\\\n",
       "\t (7.54,7.73{]} &  0           \\\\\n",
       "\t (7.73,7.92{]} &  1           \\\\\n",
       "\t (7.92,8.11{]} & 26           \\\\\n",
       "\t (8.11,8.31{]} & 16           \\\\\n",
       "\t (8.31,8.5{]}  & 27           \\\\\n",
       "\\end{tabular}\n"
      ],
      "text/markdown": [
       "\n",
       "| Czas snu (h) | Częstość (kobiety) |\n",
       "|---|---|\n",
       "| (5.8,5.99]  |  3          |\n",
       "| (5.99,6.19] | 28          |\n",
       "| (6.19,6.38] |  6          |\n",
       "| (6.38,6.57] | 14          |\n",
       "| (6.57,6.76] | 21          |\n",
       "| (6.76,6.96] |  6          |\n",
       "| (6.96,7.15] | 13          |\n",
       "| (7.15,7.34] | 22          |\n",
       "| (7.34,7.54] |  2          |\n",
       "| (7.54,7.73] |  0          |\n",
       "| (7.73,7.92] |  1          |\n",
       "| (7.92,8.11] | 26          |\n",
       "| (8.11,8.31] | 16          |\n",
       "| (8.31,8.5]  | 27          |\n",
       "\n"
      ],
      "text/plain": [
       "   Czas snu (h) Częstość (kobiety)\n",
       "1  (5.8,5.99]    3                \n",
       "2  (5.99,6.19]  28                \n",
       "3  (6.19,6.38]   6                \n",
       "4  (6.38,6.57]  14                \n",
       "5  (6.57,6.76]  21                \n",
       "6  (6.76,6.96]   6                \n",
       "7  (6.96,7.15]  13                \n",
       "8  (7.15,7.34]  22                \n",
       "9  (7.34,7.54]   2                \n",
       "10 (7.54,7.73]   0                \n",
       "11 (7.73,7.92]   1                \n",
       "12 (7.92,8.11]  26                \n",
       "13 (8.11,8.31]  16                \n",
       "14 (8.31,8.5]   27                "
      ]
     },
     "metadata": {},
     "output_type": "display_data"
    }
   ],
   "source": [
    "n_male <- nrow(male_df)\n",
    "n_female <- nrow(female_df)\n",
    "kf = ceiling(sqrt(n_female))\n",
    "km = ceiling(sqrt(n_male))\n",
    "f_s <- cut(female_df$Sleep.Duration, breaks=kf)\n",
    "f_s <- as.data.frame(table(f_s))\n",
    "names(f_s) <- c(\"Czas snu (h)\", \"Częstość (kobiety)\")\n",
    "m_s <- cut(male_df$Sleep.Duration, breaks=km)\n",
    "m_s <- as.data.frame(table(m_s))\n",
    "names(m_s) <- c(\"Czas snu (h)\", \"Częstość (mężczyźni)\")\n",
    "m_s\n",
    "f_s"
   ]
  },
  {
   "cell_type": "markdown",
   "id": "023a0265",
   "metadata": {},
   "source": [
    "Na podstawie szeregów rozdzielczych ciężko wysnuć jakąkolwiek hipotezę, dlatego dla lepszej wizualizacji posłużymy się histogramami."
   ]
  },
  {
   "cell_type": "code",
   "execution_count": 136,
   "id": "1d625974",
   "metadata": {},
   "outputs": [
    {
     "data": {
      "image/png": "[encoded data removed]",
      "text/plain": [
       "Plot with title \"Histogram długości snu kobiet\""
      ]
     },
     "metadata": {},
     "output_type": "display_data"
    },
    {
     "data": {
      "image/png": "[encoded data removed]",
      "text/plain": [
       "Plot with title \"Histogram długości snu mężczyzn\""
      ]
     },
     "metadata": {},
     "output_type": "display_data"
    }
   ],
   "source": [
    "alphaf = 0.5\n",
    "mf = 2\n",
    "hf = (alphaf^mf)*2.64*IQR(female_df$Sleep.Duration)*n_female^(-1/3)\n",
    "hist(female_df$Sleep.Duration, breaks=(max(female_df$Sleep.Duration)-min(female_df$Sleep.Duration))/hf, \n",
    "     main=\"Histogram długości snu kobiet\", xlab=\"Długość snu kobiet (godziny)\", ylab=\"Częstość\", col=\"pink\")\n",
    "alpham = 0.5\n",
    "mm = 2\n",
    "hm = (alpham^mm)*2.64*IQR(male_df$Sleep.Duration)*n_male^(-1/3)\n",
    "hist(male_df$Sleep.Duration, breaks=(max(male_df$Sleep.Duration)-min(male_df$Sleep.Duration))/hf, \n",
    "     main=\"Histogram długości snu mężczyzn\", xlab=\"Długość snu mężczyzn (godziny)\", ylab=\"Częstość\", col=\"blue\")"
   ]
  },
  {
   "cell_type": "markdown",
   "id": "63b172c4",
   "metadata": {},
   "source": [
    "Wartości statystyk opisowych dla powyższych zbiorów danych przedstawiono poniżej:"
   ]
  },
  {
   "cell_type": "code",
   "execution_count": 137,
   "id": "75fd985d",
   "metadata": {},
   "outputs": [
    {
     "data": {
      "text/html": [
       "<table>\n",
       "<thead><tr><th></th><th scope=col>Kobiety</th><th scope=col>Mężczyźni</th></tr></thead>\n",
       "<tbody>\n",
       "\t<tr><th scope=row>Średnia</th><td>7.22972973</td><td> 7.0365079</td></tr>\n",
       "\t<tr><th scope=row>Wariancja</th><td>0.77340482</td><td> 0.4805218</td></tr>\n",
       "\t<tr><th scope=row>Odchylenie standardowe</th><td>0.87943437</td><td> 0.6931968</td></tr>\n",
       "\t<tr><th scope=row>Mediana</th><td>7.20000000</td><td> 7.2000000</td></tr>\n",
       "\t<tr><th scope=row>Rozstęp międzykwartylowy</th><td>1.60000000</td><td> 1.4000000</td></tr>\n",
       "\t<tr><th scope=row>Skośność</th><td>0.06661353</td><td>-0.2724855</td></tr>\n",
       "\t<tr><th scope=row>Kurtoza</th><td>1.52388152</td><td> 1.4676017</td></tr>\n",
       "</tbody>\n",
       "</table>\n"
      ],
      "text/latex": [
       "\\begin{tabular}{r|ll}\n",
       "  & Kobiety & Mężczyźni\\\\\n",
       "\\hline\n",
       "\tŚrednia & 7.22972973 &  7.0365079\\\\\n",
       "\tWariancja & 0.77340482 &  0.4805218\\\\\n",
       "\tOdchylenie standardowe & 0.87943437 &  0.6931968\\\\\n",
       "\tMediana & 7.20000000 &  7.2000000\\\\\n",
       "\tRozstęp międzykwartylowy & 1.60000000 &  1.4000000\\\\\n",
       "\tSkośność & 0.06661353 & -0.2724855\\\\\n",
       "\tKurtoza & 1.52388152 &  1.4676017\\\\\n",
       "\\end{tabular}\n"
      ],
      "text/markdown": [
       "\n",
       "| <!--/--> | Kobiety | Mężczyźni |\n",
       "|---|---|---|\n",
       "| Średnia | 7.22972973 |  7.0365079 |\n",
       "| Wariancja | 0.77340482 |  0.4805218 |\n",
       "| Odchylenie standardowe | 0.87943437 |  0.6931968 |\n",
       "| Mediana | 7.20000000 |  7.2000000 |\n",
       "| Rozstęp międzykwartylowy | 1.60000000 |  1.4000000 |\n",
       "| Skośność | 0.06661353 | -0.2724855 |\n",
       "| Kurtoza | 1.52388152 |  1.4676017 |\n",
       "\n"
      ],
      "text/plain": [
       "                         Kobiety    Mężczyźni \n",
       "Średnia                  7.22972973  7.0365079\n",
       "Wariancja                0.77340482  0.4805218\n",
       "Odchylenie standardowe   0.87943437  0.6931968\n",
       "Mediana                  7.20000000  7.2000000\n",
       "Rozstęp międzykwartylowy 1.60000000  1.4000000\n",
       "Skośność                 0.06661353 -0.2724855\n",
       "Kurtoza                  1.52388152  1.4676017"
      ]
     },
     "metadata": {},
     "output_type": "display_data"
    }
   ],
   "source": [
    "czas_snu <- female_df$Sleep.Duration\n",
    "n <- length(czas_snu)\n",
    "srednia <- mean(czas_snu)\n",
    "wariancja <- var(czas_snu)\n",
    "od_st <- sd(czas_snu)\n",
    "mediana <- median(czas_snu)\n",
    "IQR <- IQR(czas_snu)\n",
    "mom3 <- sum((czas_snu-srednia)^3)/n\n",
    "mom4 <- sum((czas_snu-srednia)^4)/n\n",
    "skosnosc <- mom3/(od_st^3)\n",
    "kurtoza <- mom4/(od_st^4)\n",
    "parametry_k <- c(srednia, wariancja, od_st, mediana, IQR, skosnosc, kurtoza)\n",
    "\n",
    "czas_snu <- male_df$Sleep.Duration\n",
    "n <- length(czas_snu)\n",
    "srednia <- mean(czas_snu)\n",
    "wariancja <- var(czas_snu)\n",
    "od_st <- sd(czas_snu)\n",
    "mediana <- median(czas_snu)\n",
    "IQR <- IQR(czas_snu)\n",
    "mom3 <- sum((czas_snu-srednia)^3)/n\n",
    "mom4 <- sum((czas_snu-srednia)^4)/n\n",
    "skosnosc <- mom3/(od_st^3)\n",
    "kurtoza <- mom4/(od_st^4)\n",
    "parametry_m <- c(srednia, wariancja, od_st, mediana, IQR, skosnosc, kurtoza)\n",
    "\n",
    "parametry <- data.frame(parametry_k, parametry_m)\n",
    "colnames(parametry) <- c(\"Kobiety\", \"Mężczyźni\")\n",
    "rownames(parametry) <- c(\"Średnia\", \"Wariancja\", \"Odchylenie standardowe\", \"Mediana\", \"Rozstęp międzykwartylowy\", \"Skośność\", \"Kurtoza\")\n",
    "parametry"
   ]
  },
  {
   "cell_type": "markdown",
   "id": "69fdec71",
   "metadata": {},
   "source": [
    "Z parametrów można wyczytać, że kobiety mają średnio dłuższy czas snu niż mężczyźni (zostanie to jeszcze przetestowane). Ponadto, analizując skośności obu rozkładów, zestaw danych kobiet ma skośność bliską 0, co sugeruje symetryczność wykresu. Natomiast dane mężczyzn mają niewielką skośność ujemną, co wskazuje na to, że rozkład ten jest nieznacznie asymetryczny i lewostronny."
   ]
  },
  {
   "cell_type": "markdown",
   "id": "26f0529a",
   "metadata": {},
   "source": [
    "# 3. Testy statystyczne"
   ]
  },
  {
   "cell_type": "markdown",
   "id": "059b833e",
   "metadata": {},
   "source": [
    "### 3.1. Test dla jednej populacji - długość snu ogółem\n",
    "Według naukowców, prawidłowy czas snu jest równy około 7 godzin. Sprawdźmy zatem za pomocą testu Z (użyty został ten rodzaj testu ze względu na dość duży rozmiar próby oraz założenie, że długość snu jest zmienną losową o rozkładzie normalnym), czy średnia długość snu ($\\mu_0$) jest blisko wartości 7 godzin na dobę ($\\mu$). Będzie to hipoteza zerowa. Hipoteza pierwsza natomiast będzie mówiła o tym, że długość snu jest różna od 7 godzin.\n",
    "\n",
    "$$\n",
    "H_0: \\mu_0 = \\mu\\\\\n",
    "H_1: \\mu_0 \\neq \\mu\\\\\n",
    "$$\n",
    "\n",
    "Przyjęty poziom istotności $\\alpha = 0.05$.\n",
    "Zostanie wyliczona statystyka Z, na podstawie której będzie można powiedzieć coś o hipotezach.\n",
    "\n",
    "$$\n",
    "Z = \\frac{\\mu_0 - \\mu}{\\sigma}\\cdot\\sqrt{n}\n",
    "$$"
   ]
  },
  {
   "cell_type": "code",
   "execution_count": 138,
   "id": "b677b5ce",
   "metadata": {},
   "outputs": [
    {
     "data": {
      "text/html": [
       "<table>\n",
       "<thead><tr><th scope=col>Wartość statystyki Z</th><th scope=col>Wartość krytyczna</th></tr></thead>\n",
       "<tbody>\n",
       "\t<tr><td>3.210446</td><td>1.959964</td></tr>\n",
       "</tbody>\n",
       "</table>\n"
      ],
      "text/latex": [
       "\\begin{tabular}{r|ll}\n",
       " Wartość statystyki Z & Wartość krytyczna\\\\\n",
       "\\hline\n",
       "\t 3.210446 & 1.959964\\\\\n",
       "\\end{tabular}\n"
      ],
      "text/markdown": [
       "\n",
       "| Wartość statystyki Z | Wartość krytyczna |\n",
       "|---|---|\n",
       "| 3.210446 | 1.959964 |\n",
       "\n"
      ],
      "text/plain": [
       "  Wartość statystyki Z Wartość krytyczna\n",
       "1 3.210446             1.959964         "
      ]
     },
     "metadata": {},
     "output_type": "display_data"
    }
   ],
   "source": [
    "alpha <- 0.05\n",
    "mu0 <- mean(all_df$Sleep.Duration)\n",
    "mu <- 7\n",
    "n <- nrow(all_df)\n",
    "sd <- sd(all_df$Sleep.Duration)\n",
    "Z <- c((mu0-mu)/sd*sqrt(n))\n",
    "war_kryt <- c(qnorm(1 - alpha/2))\n",
    "wynik <- data.frame(Z, war_kryt)\n",
    "colnames(wynik) <- c(\"Wartość statystyki Z\", \"Wartość krytyczna\")\n",
    "wynik"
   ]
  },
  {
   "cell_type": "markdown",
   "id": "ded46a5b",
   "metadata": {},
   "source": [
    "Jak widać wartość statystyki Z znajduje się w przedziale krytycznym. Oznacza to, że odrzucamy hipotezę zerową na rzecz hipotezy pierwszej. Średnia długość snu jest różna od 7 godzin."
   ]
  },
  {
   "cell_type": "markdown",
   "id": "462b55f9",
   "metadata": {},
   "source": [
    "### 3.2. Test dla dwóch populacji - mężczyźni i kobiety"
   ]
  },
  {
   "cell_type": "markdown",
   "id": "f342cd18",
   "metadata": {},
   "source": [
    "Przy analizie eksploracyjnej została postawiona hipoteza, że kobiety śpią dłużej niż mężczyźni. W celu wyboru testu, który pozwoli zweryfikować prawdziwość tej hipotezy, należy najpierw sprawdzić, jakie są liczności poszczególnych zbiorów."
   ]
  },
  {
   "cell_type": "code",
   "execution_count": 139,
   "id": "96c85956",
   "metadata": {},
   "outputs": [
    {
     "data": {
      "text/html": [
       "<table>\n",
       "<thead><tr><th scope=col>Liczność kobiet</th><th scope=col>Liczność mężczyzn</th></tr></thead>\n",
       "<tbody>\n",
       "\t<tr><td>185</td><td>189</td></tr>\n",
       "</tbody>\n",
       "</table>\n"
      ],
      "text/latex": [
       "\\begin{tabular}{r|ll}\n",
       " Liczność kobiet & Liczność mężczyzn\\\\\n",
       "\\hline\n",
       "\t 185 & 189\\\\\n",
       "\\end{tabular}\n"
      ],
      "text/markdown": [
       "\n",
       "| Liczność kobiet | Liczność mężczyzn |\n",
       "|---|---|\n",
       "| 185 | 189 |\n",
       "\n"
      ],
      "text/plain": [
       "  Liczność kobiet Liczność mężczyzn\n",
       "1 185             189              "
      ]
     },
     "metadata": {},
     "output_type": "display_data"
    }
   ],
   "source": [
    "female_df <- subset(all_df, Gender == \"Female\")\n",
    "male_df <- subset(all_df, Gender == \"Male\")\n",
    "nf <- nrow(female_df)\n",
    "nm <- nrow(male_df)\n",
    "wynik <- data.frame(nf, nm)\n",
    "colnames(wynik) <- c(\"Liczność kobiet\", \"Liczność mężczyzn\")\n",
    "wynik"
   ]
  },
  {
   "cell_type": "markdown",
   "id": "43133e9a",
   "metadata": {},
   "source": [
    "Jak widać, liczności obu grup są dostatecznie duże, by ponownie użyć testu Z. Tym razem jednak będzie to test dla dwóch prób niezależnych. Zostanie wylicznona statystyka Z z użyciem odpowiedniego wzoru, a następnie porównana z wartością krytyczną dla poziomu istotności równego $\\alpha = 0.05$. Najpierw jednak postawmy odpowiednie hipotezy. Hipoteza zerowa mówi o tym, że średnie czasy snu w przypadku obu grup są takie same. Hipoteza pierwsza zaś - że średni czas snu kobiet jest większy niż średni czas snu mężczyzn. Niech $\\mu_1$ oznacza średni czas snu kobiet, a $\\mu_2$ - średni czas snu mężczyzn. Odchylenia standardowe długości snu i liczności grup kobiet i mężczyzn to odpowiednio $\\sigma_1$ i $n_1$ oraz $\\sigma_2$ i $n_2$ Zatem:\n",
    "\n",
    "$$\n",
    "H_0 : \\mu_1 = \\mu_2\\\\\n",
    "H_1 : \\mu_1 > \\mu_2\n",
    "$$\n",
    "\n",
    "Statystyka Z będzie wyliczona ze wzoru:\n",
    "\n",
    "$$\n",
    "Z = \\frac{\\overline{x}_1 - \\overline{x}_2}{\\sqrt{\\frac{\\sigma_1^2}{n_1}+\\frac{\\sigma_2^2}{n_2}}}\n",
    "$$\n",
    "\n",
    "Gdzie $\\overline{x}_1$ i $\\overline{x}_2$ to odpowiednio średnie długości snu kobiet i mężczyzn wyliczone z próby."
   ]
  },
  {
   "cell_type": "code",
   "execution_count": 140,
   "id": "c39f3a76",
   "metadata": {},
   "outputs": [
    {
     "data": {
      "text/html": [
       "<table>\n",
       "<thead><tr><th scope=col>Wartość statystyki Z</th><th scope=col>Wartość krytyczna</th></tr></thead>\n",
       "<tbody>\n",
       "\t<tr><td>2.356537</td><td>1.644854</td></tr>\n",
       "</tbody>\n",
       "</table>\n"
      ],
      "text/latex": [
       "\\begin{tabular}{r|ll}\n",
       " Wartość statystyki Z & Wartość krytyczna\\\\\n",
       "\\hline\n",
       "\t 2.356537 & 1.644854\\\\\n",
       "\\end{tabular}\n"
      ],
      "text/markdown": [
       "\n",
       "| Wartość statystyki Z | Wartość krytyczna |\n",
       "|---|---|\n",
       "| 2.356537 | 1.644854 |\n",
       "\n"
      ],
      "text/plain": [
       "  Wartość statystyki Z Wartość krytyczna\n",
       "1 2.356537             1.644854         "
      ]
     },
     "metadata": {},
     "output_type": "display_data"
    }
   ],
   "source": [
    "kobiety <- female_df$Sleep.Duration\n",
    "mezczyzni <- male_df$Sleep.Duration\n",
    "x1 <- mean(kobiety)\n",
    "x2 <- mean(mezczyzni)\n",
    "war1 <- var(kobiety)\n",
    "war2 <- var(mezczyzni)\n",
    "Z = (x1 - x2)/sqrt(war1/nf + war2/nm)\n",
    "\n",
    "alpha <- 0.05\n",
    "kryt <- qnorm(1 - alpha)\n",
    "wynik <- data.frame(Z,kryt)\n",
    "colnames(wynik) <- c(\"Wartość statystyki Z\", \"Wartość krytyczna\")\n",
    "wynik"
   ]
  },
  {
   "cell_type": "markdown",
   "id": "389abab1",
   "metadata": {},
   "source": [
    "Po wykonaniu testu jesteśmy w stanie powiedzieć, że należy odrzucić hipotezę zerową na rzecz pierwszej. To oznacza, że w istocie czas snu kobiet jest dłuższy od czasu snu mężczyzn."
   ]
  },
  {
   "cell_type": "markdown",
   "id": "bdb35929",
   "metadata": {},
   "source": [
    "### 3.3. Test współzależności - jakość snu a kategoria BMI"
   ]
  },
  {
   "cell_type": "markdown",
   "id": "9b7378f3",
   "metadata": {},
   "source": [
    "Ten test pozwoli nam sprawdzić, czy kategoria BMI ma wpływ na jakość snu. W tym celu należy ustalić, jaka ocena snu jest dobra, a jaka zła. Przyjmijmy następującą konwencję:\n",
    "\n",
    "| Ocena snu | Jakość snu |\n",
    "| :-: | :-: |\n",
    "| 0 - 3 | Słaba |\n",
    "| 4 - 6 | Średnia |\n",
    "| 7 - 8 | Dobra |\n",
    "| 9 - 10 | Bardzo dobra |\n",
    "\n",
    "Należy teraz podliczyć badanych uwzględniając podział na kategorie BMI oraz jakość snu."
   ]
  },
  {
   "cell_type": "code",
   "execution_count": 141,
   "id": "a07d4021",
   "metadata": {},
   "outputs": [
    {
     "name": "stdout",
     "output_type": "stream",
     "text": [
      "Margins computed over dimensions\n",
      "in the following order:\n",
      "1: Quality.of.Sleep\n",
      "2: BMI.Category\n"
     ]
    },
    {
     "data": {
      "text/html": [
       "<table>\n",
       "<thead><tr><th></th><th scope=col>Normal</th><th scope=col>Normal Weight</th><th scope=col>Obese</th><th scope=col>Overweight</th><th scope=col>sum</th></tr></thead>\n",
       "<tbody>\n",
       "\t<tr><th scope=row>Bardzo dobra</th><td> 32</td><td> 4 </td><td> 2 </td><td> 33</td><td> 71</td></tr>\n",
       "\t<tr><th scope=row>Dobra</th><td>130</td><td>12 </td><td> 4 </td><td> 40</td><td>186</td></tr>\n",
       "\t<tr><th scope=row>Średnia</th><td> 33</td><td> 5 </td><td> 4 </td><td> 75</td><td>117</td></tr>\n",
       "\t<tr><th scope=row>sum</th><td>195</td><td>21 </td><td>10 </td><td>148</td><td>374</td></tr>\n",
       "</tbody>\n",
       "</table>\n"
      ],
      "text/latex": [
       "\\begin{tabular}{r|lllll}\n",
       "  & Normal & Normal Weight & Obese & Overweight & sum\\\\\n",
       "\\hline\n",
       "\tBardzo dobra &  32 &  4  &  2  &  33 &  71\\\\\n",
       "\tDobra & 130 & 12  &  4  &  40 & 186\\\\\n",
       "\tŚrednia &  33 &  5  &  4  &  75 & 117\\\\\n",
       "\tsum & 195 & 21  & 10  & 148 & 374\\\\\n",
       "\\end{tabular}\n"
      ],
      "text/markdown": [
       "\n",
       "| <!--/--> | Normal | Normal Weight | Obese | Overweight | sum |\n",
       "|---|---|---|---|---|---|\n",
       "| Bardzo dobra |  32 |  4  |  2  |  33 |  71 |\n",
       "| Dobra | 130 | 12  |  4  |  40 | 186 |\n",
       "| Średnia |  33 |  5  |  4  |  75 | 117 |\n",
       "| sum | 195 | 21  | 10  | 148 | 374 |\n",
       "\n"
      ],
      "text/plain": [
       "                BMI.Category\n",
       "Quality.of.Sleep Normal Normal Weight Obese Overweight sum\n",
       "    Bardzo dobra  32     4             2     33         71\n",
       "    Dobra        130    12             4     40        186\n",
       "    Średnia       33     5             4     75        117\n",
       "    sum          195    21            10    148        374"
      ]
     },
     "metadata": {},
     "output_type": "display_data"
    }
   ],
   "source": [
    "jakosc_df <- all_df[,c(\"Quality.of.Sleep\",\"BMI.Category\")]\n",
    "for(x in 1:nrow(jakosc_df)){\n",
    "    if(jakosc_df$Quality.of.Sleep[x]>8){\n",
    "        jakosc_df$Quality.of.Sleep[x]<-\"Bardzo dobra\"\n",
    "    }\n",
    "    else if(jakosc_df$Quality.of.Sleep[x]>6){\n",
    "        jakosc_df$Quality.of.Sleep[x]<-\"Dobra\"\n",
    "    }\n",
    "    else if(jakosc_df$Quality.of.Sleep[x]>3){\n",
    "        jakosc_df$Quality.of.Sleep[x]<-\"Średnia\"\n",
    "    }\n",
    "    else{\n",
    "         jakosc_df$Quality.of.Sleep[x]<-\"Słaba\"\n",
    "    }\n",
    "}\n",
    "wynik <- table(jakosc_df)\n",
    "wynik<-addmargins(wynik,c(1,2),sum)\n",
    "wynik"
   ]
  },
  {
   "cell_type": "markdown",
   "id": "41eb8cea",
   "metadata": {},
   "source": [
    "Aby uzyskać dane, na których będzie można przeprowadzić test Chi-kwadrat, zmniejszmy liczbę kategorii BMI. Przyjmijmy dwie kategorie: \"Norma\" i \"Powyżej normy\". Zatem tabela prezentuje się następująco:\n",
    "\n",
    "| Jakość \\ Kat.BMI | Norma | Powyżej normy | SUMA |\n",
    "| --: | :-: | :-: | :-: |\n",
    "| Bardzo dobra | 36 | 35 | 71 |\n",
    "| Dobra | 142 | 44 | 186 |\n",
    "| Średnia | 38 | 79 | 117 |\n",
    "| SUMA | 216 | 158 | 374 |"
   ]
  },
  {
   "cell_type": "markdown",
   "id": "59bcbbc6",
   "metadata": {},
   "source": [
    "Sprawdzimy teraz, używając testu chi-kwadrat, czy kategoria BMI ma związek z jakością snu. Wartość parametru Chi-kwadrat policzymy ze wzoru:\n",
    "\n",
    "$$\n",
    "\\chi^2 = \\sum_{i=0}^n\\sum_{j=0}^m\\frac{(O_{ij}-E_{ij})^2}{E_{ij}}\n",
    "$$\n",
    "\n",
    "Gdzie $n$ i $m$ to odpowiednio liczby wierszy i kolumn, $O_{ij}$ oznacza zaobserwowaną wartość w i-tym wierszu i j-tej kolumnie, a $E_{ij}$ oznacza oczekiwaną wartość w i-tym wierszu i j-tej kolumnie. Ilość stopni swobody to: $(n-1)(m-1) = 2$. Przyjęty poziom istotności: $\\alpha = 0.05$. Hipotezy wyglądają następująco:\n",
    "\n",
    "$$\n",
    "H_0 : p = p^o\\\\\n",
    "H_1 : p \\neq p^o\n",
    "$$\n",
    "\n",
    "Gdzie $p$ jest rozkładem prawdopodobieństwa wystąpienia zmiennych zaobserwowanych, a $p^o$ jest oczekiwanym rozkładem prawdopodobieństwa."
   ]
  },
  {
   "cell_type": "code",
   "execution_count": 142,
   "id": "09dbaeab",
   "metadata": {},
   "outputs": [
    {
     "data": {
      "text/html": [
       "<table>\n",
       "<thead><tr><th scope=col>Wartość statystyki</th><th scope=col>Wartość krytyczna</th></tr></thead>\n",
       "<tbody>\n",
       "\t<tr><td>337.0172</td><td>5.991465</td></tr>\n",
       "</tbody>\n",
       "</table>\n"
      ],
      "text/latex": [
       "\\begin{tabular}{r|ll}\n",
       " Wartość statystyki & Wartość krytyczna\\\\\n",
       "\\hline\n",
       "\t 337.0172 & 5.991465\\\\\n",
       "\\end{tabular}\n"
      ],
      "text/markdown": [
       "\n",
       "| Wartość statystyki | Wartość krytyczna |\n",
       "|---|---|\n",
       "| 337.0172 | 5.991465 |\n",
       "\n"
      ],
      "text/plain": [
       "  Wartość statystyki Wartość krytyczna\n",
       "1 337.0172           5.991465         "
      ]
     },
     "metadata": {},
     "output_type": "display_data"
    }
   ],
   "source": [
    "O <- c(36,35,142,44,38,79)\n",
    "N <- sum(O)\n",
    "E <- c((71*216)/N,(71*158)/N,(71*216)/N,(71*158)/N,(71*216)/N,(71*158)/N)\n",
    "Xsq <- sum(((O-E)^2)/E)\n",
    "df <- 2\n",
    "alpha <- 0.05\n",
    "kryt <- qchisq(1-alpha, df)\n",
    "wynik <- data.frame(Xsq,kryt)\n",
    "colnames(wynik) <- c(\"Wartość statystyki\", \"Wartość krytyczna\")\n",
    "wynik"
   ]
  },
  {
   "cell_type": "markdown",
   "id": "5bfdcd0d",
   "metadata": {},
   "source": [
    "Jak widać, wartość statystyki znacznie przekracza wartość krytyczną, co oznacza, że należy odrzucić hipotezę zerową i przyjąć hipotezę pierwsza. To znaczy, że kategoria BMI istotnie wpływa na jakość snu."
   ]
  },
  {
   "cell_type": "markdown",
   "id": "97e5e91a",
   "metadata": {},
   "source": [
    "# 4. Podsumowanie i wnioski\n",
    "W powyższej pracy zdecydowałem się na zebranie podstawowych informacji na temat długości snu ludzi, gdyż jako student uważam, że sen jest ważnym aspektem rozwoju umysłowego. Statystyka potwierdziła również badania naukowców, którzy twierdzą, że kobiety potrzebują średnio więcej czasu na sen niż mężczyźni.\n",
    "\n",
    "Powyższa praca ukazała również, że średnia długość snu ludzi zawiera się w przedziale od 6h do 8h na dobę, czyli takiej rekomendowanej przez specjalistów.\n",
    "\n",
    "Ponadto statystycznie można stwierdzić, że BMI wpływa na jakość snu człowieka.\n",
    "\n",
    "Takie badania statystyczne można poprowadzić dalej licząc współczynniki mówiące w jaki sposób wpływa BMI na jakość snu, a także przeprowadzając podobne testy uwzględniając inne parametry takie jak ciśnienie krwi czy poziom stresu."
   ]
  }
 ],
 "metadata": {
  "kernelspec": {
   "display_name": "R",
   "language": "R",
   "name": "ir"
  },
  "language_info": {
   "codemirror_mode": "r",
   "file_extension": ".r",
   "mimetype": "text/x-r-source",
   "name": "R",
   "pygments_lexer": "r",
   "version": "3.6.1"
  }
 },
 "nbformat": 4,
 "nbformat_minor": 5
}
